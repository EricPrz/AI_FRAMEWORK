{
 "cells": [
  {
   "cell_type": "markdown",
   "metadata": {},
   "source": [
    "### Reading MNIST"
   ]
  },
  {
   "cell_type": "code",
   "execution_count": 1,
   "metadata": {},
   "outputs": [
    {
     "ename": "FileNotFoundError",
     "evalue": "[Errno 2] No such file or directory: './data/mnist_train.csv'",
     "output_type": "error",
     "traceback": [
      "\u001b[31m---------------------------------------------------------------------------\u001b[39m",
      "\u001b[31mFileNotFoundError\u001b[39m                         Traceback (most recent call last)",
      "\u001b[36mCell\u001b[39m\u001b[36m \u001b[39m\u001b[32mIn[1]\u001b[39m\u001b[32m, line 5\u001b[39m\n\u001b[32m      1\u001b[39m \u001b[38;5;28;01mimport\u001b[39;00m\u001b[38;5;250m \u001b[39m\u001b[34;01mpandas\u001b[39;00m\u001b[38;5;250m \u001b[39m\u001b[38;5;28;01mas\u001b[39;00m\u001b[38;5;250m \u001b[39m\u001b[34;01mpd\u001b[39;00m\n\u001b[32m      2\u001b[39m \u001b[38;5;28;01mimport\u001b[39;00m\u001b[38;5;250m \u001b[39m\u001b[34;01mnumpy\u001b[39;00m\u001b[38;5;250m \u001b[39m\u001b[38;5;28;01mas\u001b[39;00m\u001b[38;5;250m \u001b[39m\u001b[34;01mnp\u001b[39;00m\n\u001b[32m----> \u001b[39m\u001b[32m5\u001b[39m train = \u001b[43mpd\u001b[49m\u001b[43m.\u001b[49m\u001b[43mread_csv\u001b[49m\u001b[43m(\u001b[49m\u001b[33;43m\"\u001b[39;49m\u001b[33;43m./data/mnist_train.csv\u001b[39;49m\u001b[33;43m\"\u001b[39;49m\u001b[43m)\u001b[49m\n\u001b[32m      6\u001b[39m test = pd.read_csv(\u001b[33m\"\u001b[39m\u001b[33m./data/mnist_test.csv\u001b[39m\u001b[33m\"\u001b[39m)\n\u001b[32m      8\u001b[39m \u001b[38;5;66;03m# Reestructuring\u001b[39;00m\n",
      "\u001b[36mFile \u001b[39m\u001b[32mc:\\Users\\eric\\AppData\\Local\\Programs\\Python\\Python312-arm64\\Lib\\site-packages\\pandas\\io\\parsers\\readers.py:1026\u001b[39m, in \u001b[36mread_csv\u001b[39m\u001b[34m(filepath_or_buffer, sep, delimiter, header, names, index_col, usecols, dtype, engine, converters, true_values, false_values, skipinitialspace, skiprows, skipfooter, nrows, na_values, keep_default_na, na_filter, verbose, skip_blank_lines, parse_dates, infer_datetime_format, keep_date_col, date_parser, date_format, dayfirst, cache_dates, iterator, chunksize, compression, thousands, decimal, lineterminator, quotechar, quoting, doublequote, escapechar, comment, encoding, encoding_errors, dialect, on_bad_lines, delim_whitespace, low_memory, memory_map, float_precision, storage_options, dtype_backend)\u001b[39m\n\u001b[32m   1013\u001b[39m kwds_defaults = _refine_defaults_read(\n\u001b[32m   1014\u001b[39m     dialect,\n\u001b[32m   1015\u001b[39m     delimiter,\n\u001b[32m   (...)\u001b[39m\u001b[32m   1022\u001b[39m     dtype_backend=dtype_backend,\n\u001b[32m   1023\u001b[39m )\n\u001b[32m   1024\u001b[39m kwds.update(kwds_defaults)\n\u001b[32m-> \u001b[39m\u001b[32m1026\u001b[39m \u001b[38;5;28;01mreturn\u001b[39;00m \u001b[43m_read\u001b[49m\u001b[43m(\u001b[49m\u001b[43mfilepath_or_buffer\u001b[49m\u001b[43m,\u001b[49m\u001b[43m \u001b[49m\u001b[43mkwds\u001b[49m\u001b[43m)\u001b[49m\n",
      "\u001b[36mFile \u001b[39m\u001b[32mc:\\Users\\eric\\AppData\\Local\\Programs\\Python\\Python312-arm64\\Lib\\site-packages\\pandas\\io\\parsers\\readers.py:620\u001b[39m, in \u001b[36m_read\u001b[39m\u001b[34m(filepath_or_buffer, kwds)\u001b[39m\n\u001b[32m    617\u001b[39m _validate_names(kwds.get(\u001b[33m\"\u001b[39m\u001b[33mnames\u001b[39m\u001b[33m\"\u001b[39m, \u001b[38;5;28;01mNone\u001b[39;00m))\n\u001b[32m    619\u001b[39m \u001b[38;5;66;03m# Create the parser.\u001b[39;00m\n\u001b[32m--> \u001b[39m\u001b[32m620\u001b[39m parser = \u001b[43mTextFileReader\u001b[49m\u001b[43m(\u001b[49m\u001b[43mfilepath_or_buffer\u001b[49m\u001b[43m,\u001b[49m\u001b[43m \u001b[49m\u001b[43m*\u001b[49m\u001b[43m*\u001b[49m\u001b[43mkwds\u001b[49m\u001b[43m)\u001b[49m\n\u001b[32m    622\u001b[39m \u001b[38;5;28;01mif\u001b[39;00m chunksize \u001b[38;5;129;01mor\u001b[39;00m iterator:\n\u001b[32m    623\u001b[39m     \u001b[38;5;28;01mreturn\u001b[39;00m parser\n",
      "\u001b[36mFile \u001b[39m\u001b[32mc:\\Users\\eric\\AppData\\Local\\Programs\\Python\\Python312-arm64\\Lib\\site-packages\\pandas\\io\\parsers\\readers.py:1620\u001b[39m, in \u001b[36mTextFileReader.__init__\u001b[39m\u001b[34m(self, f, engine, **kwds)\u001b[39m\n\u001b[32m   1617\u001b[39m     \u001b[38;5;28mself\u001b[39m.options[\u001b[33m\"\u001b[39m\u001b[33mhas_index_names\u001b[39m\u001b[33m\"\u001b[39m] = kwds[\u001b[33m\"\u001b[39m\u001b[33mhas_index_names\u001b[39m\u001b[33m\"\u001b[39m]\n\u001b[32m   1619\u001b[39m \u001b[38;5;28mself\u001b[39m.handles: IOHandles | \u001b[38;5;28;01mNone\u001b[39;00m = \u001b[38;5;28;01mNone\u001b[39;00m\n\u001b[32m-> \u001b[39m\u001b[32m1620\u001b[39m \u001b[38;5;28mself\u001b[39m._engine = \u001b[38;5;28;43mself\u001b[39;49m\u001b[43m.\u001b[49m\u001b[43m_make_engine\u001b[49m\u001b[43m(\u001b[49m\u001b[43mf\u001b[49m\u001b[43m,\u001b[49m\u001b[43m \u001b[49m\u001b[38;5;28;43mself\u001b[39;49m\u001b[43m.\u001b[49m\u001b[43mengine\u001b[49m\u001b[43m)\u001b[49m\n",
      "\u001b[36mFile \u001b[39m\u001b[32mc:\\Users\\eric\\AppData\\Local\\Programs\\Python\\Python312-arm64\\Lib\\site-packages\\pandas\\io\\parsers\\readers.py:1880\u001b[39m, in \u001b[36mTextFileReader._make_engine\u001b[39m\u001b[34m(self, f, engine)\u001b[39m\n\u001b[32m   1878\u001b[39m     \u001b[38;5;28;01mif\u001b[39;00m \u001b[33m\"\u001b[39m\u001b[33mb\u001b[39m\u001b[33m\"\u001b[39m \u001b[38;5;129;01mnot\u001b[39;00m \u001b[38;5;129;01min\u001b[39;00m mode:\n\u001b[32m   1879\u001b[39m         mode += \u001b[33m\"\u001b[39m\u001b[33mb\u001b[39m\u001b[33m\"\u001b[39m\n\u001b[32m-> \u001b[39m\u001b[32m1880\u001b[39m \u001b[38;5;28mself\u001b[39m.handles = \u001b[43mget_handle\u001b[49m\u001b[43m(\u001b[49m\n\u001b[32m   1881\u001b[39m \u001b[43m    \u001b[49m\u001b[43mf\u001b[49m\u001b[43m,\u001b[49m\n\u001b[32m   1882\u001b[39m \u001b[43m    \u001b[49m\u001b[43mmode\u001b[49m\u001b[43m,\u001b[49m\n\u001b[32m   1883\u001b[39m \u001b[43m    \u001b[49m\u001b[43mencoding\u001b[49m\u001b[43m=\u001b[49m\u001b[38;5;28;43mself\u001b[39;49m\u001b[43m.\u001b[49m\u001b[43moptions\u001b[49m\u001b[43m.\u001b[49m\u001b[43mget\u001b[49m\u001b[43m(\u001b[49m\u001b[33;43m\"\u001b[39;49m\u001b[33;43mencoding\u001b[39;49m\u001b[33;43m\"\u001b[39;49m\u001b[43m,\u001b[49m\u001b[43m \u001b[49m\u001b[38;5;28;43;01mNone\u001b[39;49;00m\u001b[43m)\u001b[49m\u001b[43m,\u001b[49m\n\u001b[32m   1884\u001b[39m \u001b[43m    \u001b[49m\u001b[43mcompression\u001b[49m\u001b[43m=\u001b[49m\u001b[38;5;28;43mself\u001b[39;49m\u001b[43m.\u001b[49m\u001b[43moptions\u001b[49m\u001b[43m.\u001b[49m\u001b[43mget\u001b[49m\u001b[43m(\u001b[49m\u001b[33;43m\"\u001b[39;49m\u001b[33;43mcompression\u001b[39;49m\u001b[33;43m\"\u001b[39;49m\u001b[43m,\u001b[49m\u001b[43m \u001b[49m\u001b[38;5;28;43;01mNone\u001b[39;49;00m\u001b[43m)\u001b[49m\u001b[43m,\u001b[49m\n\u001b[32m   1885\u001b[39m \u001b[43m    \u001b[49m\u001b[43mmemory_map\u001b[49m\u001b[43m=\u001b[49m\u001b[38;5;28;43mself\u001b[39;49m\u001b[43m.\u001b[49m\u001b[43moptions\u001b[49m\u001b[43m.\u001b[49m\u001b[43mget\u001b[49m\u001b[43m(\u001b[49m\u001b[33;43m\"\u001b[39;49m\u001b[33;43mmemory_map\u001b[39;49m\u001b[33;43m\"\u001b[39;49m\u001b[43m,\u001b[49m\u001b[43m \u001b[49m\u001b[38;5;28;43;01mFalse\u001b[39;49;00m\u001b[43m)\u001b[49m\u001b[43m,\u001b[49m\n\u001b[32m   1886\u001b[39m \u001b[43m    \u001b[49m\u001b[43mis_text\u001b[49m\u001b[43m=\u001b[49m\u001b[43mis_text\u001b[49m\u001b[43m,\u001b[49m\n\u001b[32m   1887\u001b[39m \u001b[43m    \u001b[49m\u001b[43merrors\u001b[49m\u001b[43m=\u001b[49m\u001b[38;5;28;43mself\u001b[39;49m\u001b[43m.\u001b[49m\u001b[43moptions\u001b[49m\u001b[43m.\u001b[49m\u001b[43mget\u001b[49m\u001b[43m(\u001b[49m\u001b[33;43m\"\u001b[39;49m\u001b[33;43mencoding_errors\u001b[39;49m\u001b[33;43m\"\u001b[39;49m\u001b[43m,\u001b[49m\u001b[43m \u001b[49m\u001b[33;43m\"\u001b[39;49m\u001b[33;43mstrict\u001b[39;49m\u001b[33;43m\"\u001b[39;49m\u001b[43m)\u001b[49m\u001b[43m,\u001b[49m\n\u001b[32m   1888\u001b[39m \u001b[43m    \u001b[49m\u001b[43mstorage_options\u001b[49m\u001b[43m=\u001b[49m\u001b[38;5;28;43mself\u001b[39;49m\u001b[43m.\u001b[49m\u001b[43moptions\u001b[49m\u001b[43m.\u001b[49m\u001b[43mget\u001b[49m\u001b[43m(\u001b[49m\u001b[33;43m\"\u001b[39;49m\u001b[33;43mstorage_options\u001b[39;49m\u001b[33;43m\"\u001b[39;49m\u001b[43m,\u001b[49m\u001b[43m \u001b[49m\u001b[38;5;28;43;01mNone\u001b[39;49;00m\u001b[43m)\u001b[49m\u001b[43m,\u001b[49m\n\u001b[32m   1889\u001b[39m \u001b[43m\u001b[49m\u001b[43m)\u001b[49m\n\u001b[32m   1890\u001b[39m \u001b[38;5;28;01massert\u001b[39;00m \u001b[38;5;28mself\u001b[39m.handles \u001b[38;5;129;01mis\u001b[39;00m \u001b[38;5;129;01mnot\u001b[39;00m \u001b[38;5;28;01mNone\u001b[39;00m\n\u001b[32m   1891\u001b[39m f = \u001b[38;5;28mself\u001b[39m.handles.handle\n",
      "\u001b[36mFile \u001b[39m\u001b[32mc:\\Users\\eric\\AppData\\Local\\Programs\\Python\\Python312-arm64\\Lib\\site-packages\\pandas\\io\\common.py:873\u001b[39m, in \u001b[36mget_handle\u001b[39m\u001b[34m(path_or_buf, mode, encoding, compression, memory_map, is_text, errors, storage_options)\u001b[39m\n\u001b[32m    868\u001b[39m \u001b[38;5;28;01melif\u001b[39;00m \u001b[38;5;28misinstance\u001b[39m(handle, \u001b[38;5;28mstr\u001b[39m):\n\u001b[32m    869\u001b[39m     \u001b[38;5;66;03m# Check whether the filename is to be opened in binary mode.\u001b[39;00m\n\u001b[32m    870\u001b[39m     \u001b[38;5;66;03m# Binary mode does not support 'encoding' and 'newline'.\u001b[39;00m\n\u001b[32m    871\u001b[39m     \u001b[38;5;28;01mif\u001b[39;00m ioargs.encoding \u001b[38;5;129;01mand\u001b[39;00m \u001b[33m\"\u001b[39m\u001b[33mb\u001b[39m\u001b[33m\"\u001b[39m \u001b[38;5;129;01mnot\u001b[39;00m \u001b[38;5;129;01min\u001b[39;00m ioargs.mode:\n\u001b[32m    872\u001b[39m         \u001b[38;5;66;03m# Encoding\u001b[39;00m\n\u001b[32m--> \u001b[39m\u001b[32m873\u001b[39m         handle = \u001b[38;5;28;43mopen\u001b[39;49m\u001b[43m(\u001b[49m\n\u001b[32m    874\u001b[39m \u001b[43m            \u001b[49m\u001b[43mhandle\u001b[49m\u001b[43m,\u001b[49m\n\u001b[32m    875\u001b[39m \u001b[43m            \u001b[49m\u001b[43mioargs\u001b[49m\u001b[43m.\u001b[49m\u001b[43mmode\u001b[49m\u001b[43m,\u001b[49m\n\u001b[32m    876\u001b[39m \u001b[43m            \u001b[49m\u001b[43mencoding\u001b[49m\u001b[43m=\u001b[49m\u001b[43mioargs\u001b[49m\u001b[43m.\u001b[49m\u001b[43mencoding\u001b[49m\u001b[43m,\u001b[49m\n\u001b[32m    877\u001b[39m \u001b[43m            \u001b[49m\u001b[43merrors\u001b[49m\u001b[43m=\u001b[49m\u001b[43merrors\u001b[49m\u001b[43m,\u001b[49m\n\u001b[32m    878\u001b[39m \u001b[43m            \u001b[49m\u001b[43mnewline\u001b[49m\u001b[43m=\u001b[49m\u001b[33;43m\"\u001b[39;49m\u001b[33;43m\"\u001b[39;49m\u001b[43m,\u001b[49m\n\u001b[32m    879\u001b[39m \u001b[43m        \u001b[49m\u001b[43m)\u001b[49m\n\u001b[32m    880\u001b[39m     \u001b[38;5;28;01melse\u001b[39;00m:\n\u001b[32m    881\u001b[39m         \u001b[38;5;66;03m# Binary mode\u001b[39;00m\n\u001b[32m    882\u001b[39m         handle = \u001b[38;5;28mopen\u001b[39m(handle, ioargs.mode)\n",
      "\u001b[31mFileNotFoundError\u001b[39m: [Errno 2] No such file or directory: './data/mnist_train.csv'"
     ]
    }
   ],
   "source": [
    "import pandas as pd\n",
    "import numpy as np\n",
    "\n",
    "\n",
    "train = pd.read_csv(\"./data/mnist_train.csv\")\n",
    "test = pd.read_csv(\"./data/mnist_test.csv\")\n",
    "\n",
    "# Reestructuring\n",
    "train_label, train_image = train[\"label\"].to_numpy(), train[[x for x in train.columns if x != \"label\"]].to_numpy().reshape((-1, 1, 28, 28))/255\n",
    "test_label, test_image = train[\"label\"].to_numpy(), train[[x for x in train.columns if x != \"label\"]].to_numpy().reshape((-1, 1, 28, 28))/255\n",
    "\n",
    "# One-hotting\n",
    "one_hot = np.zeros((len(train_label), 10))\n",
    "for label in range(train_label.shape[0]):\n",
    "    one_hot[label, train_label[label]] = 1\n",
    "train_label = one_hot\n",
    "\n",
    "one_hot = np.zeros((len(test_label), 10))\n",
    "for label in range(test_label.shape[0]):\n",
    "    one_hot[label, test_label[label]] = 1\n",
    "test_label = one_hot"
   ]
  },
  {
   "cell_type": "markdown",
   "metadata": {},
   "source": [
    "### Creating The Model"
   ]
  },
  {
   "cell_type": "code",
   "execution_count": 1,
   "metadata": {},
   "outputs": [],
   "source": [
    "import framework as fm\n",
    "\n",
    "class Model(fm.Module):\n",
    "    def __init__(self):\n",
    "        super().__init__()\n",
    "        self.conv1 = fm.Conv2d(1, 6, 5, 1, bias = False)\n",
    "        self.relu1 = fm.ReLu()\n",
    "        self.maxpool1 = fm.MaxPool2d(2, 6, 2)\n",
    "\n",
    "        self.conv2 = fm.Conv2d(6, 16, 5, 1, bias = False)\n",
    "        self.maxpool2 = fm.MaxPool2d(2, 16, 2)\n",
    "\n",
    "        self.lin1 = fm.Linear(256, 84, bias=False)\n",
    "        self.dropout1 = fm.Dropout(0.5)\n",
    "        self.lin2 = fm.Linear(84, 10, bias=False)\n",
    "\n",
    "\n",
    "    def forward(self, x):\n",
    "        x = self.conv1.forward(x) \n",
    "        x = self.relu1.forward(x) \n",
    "        x = self.maxpool1.forward(x)\n",
    "        x = self.conv2.forward(x)\n",
    "        x = self.maxpool2.forward(x)\n",
    "        x = x.reshape((-1, 256))\n",
    "        x = self.lin1.forward(x) \n",
    "        x = self.dropout1.forward(x)\n",
    "        x = self.lin2.forward(x)\n",
    "        return x\n",
    "\n",
    "model = Model()\n",
    "model.train()\n",
    "loss_fn = fm.CrossEntropy()\n",
    "optim = fm.Adadelta(model.get_parameters())\n"
   ]
  },
  {
   "cell_type": "markdown",
   "metadata": {},
   "source": [
    "#### Training The Model"
   ]
  },
  {
   "cell_type": "code",
   "execution_count": 6,
   "metadata": {},
   "outputs": [
    {
     "name": "stdout",
     "output_type": "stream",
     "text": [
      "Epoch 1\n",
      "-------------------------------\n",
      "loss: 7.092289924621582 [128/59904]\n",
      "loss: 1.0646944046020508 [6016/59904]\n",
      "loss: 0.9254031181335449 [11904/59904]\n",
      "loss: 0.7850354313850403 [17792/59904]\n",
      "loss: 0.40042510628700256 [23680/59904]\n",
      "loss: 0.4397575855255127 [29568/59904]\n",
      "loss: 0.34302476048469543 [35456/59904]\n",
      "loss: 0.6271507740020752 [41344/59904]\n",
      "loss: 0.29360413551330566 [47232/59904]\n",
      "loss: 0.20686164498329163 [53120/59904]\n",
      "loss: 0.037199005484580994 [59008/59904]\n",
      "Avg error:  0.64735186 \n",
      "\n",
      "Epoch 2\n",
      "-------------------------------\n",
      "loss: 0.32301923632621765 [128/59904]\n",
      "loss: 0.2716735899448395 [6016/59904]\n",
      "loss: 0.2753898799419403 [11904/59904]\n",
      "loss: 0.42396280169487 [17792/59904]\n",
      "loss: 0.22107890248298645 [23680/59904]\n",
      "loss: 0.2898280620574951 [29568/59904]\n",
      "loss: 0.21280376613140106 [35456/59904]\n",
      "loss: 0.39603757858276367 [41344/59904]\n",
      "loss: 0.1817241609096527 [47232/59904]\n",
      "loss: 0.14322152733802795 [53120/59904]\n",
      "loss: 0.01380546297878027 [59008/59904]\n",
      "Avg error:  0.23369384 \n",
      "\n",
      "Epoch 3\n",
      "-------------------------------\n",
      "loss: 0.20788997411727905 [128/59904]\n",
      "loss: 0.19920030236244202 [6016/59904]\n",
      "loss: 0.232600599527359 [11904/59904]\n",
      "loss: 0.35473328828811646 [17792/59904]\n",
      "loss: 0.15453028678894043 [23680/59904]\n",
      "loss: 0.2053307294845581 [29568/59904]\n",
      "loss: 0.1131313368678093 [35456/59904]\n",
      "loss: 0.2810838222503662 [41344/59904]\n",
      "loss: 0.1490527093410492 [47232/59904]\n",
      "loss: 0.13280291855335236 [53120/59904]\n",
      "loss: 0.016327612102031708 [59008/59904]\n",
      "Avg error:  0.1763523 \n",
      "\n",
      "Epoch 4\n",
      "-------------------------------\n",
      "loss: 0.16863128542900085 [128/59904]\n",
      "loss: 0.1961502730846405 [6016/59904]\n",
      "loss: 0.17187443375587463 [11904/59904]\n",
      "loss: 0.2957729399204254 [17792/59904]\n",
      "loss: 0.14026568830013275 [23680/59904]\n",
      "loss: 0.16834604740142822 [29568/59904]\n",
      "loss: 0.08642861992120743 [35456/59904]\n",
      "loss: 0.2464076578617096 [41344/59904]\n",
      "loss: 0.12171995639801025 [47232/59904]\n",
      "loss: 0.13887254893779755 [53120/59904]\n",
      "loss: 0.011417258530855179 [59008/59904]\n",
      "Avg error:  0.14621462 \n",
      "\n",
      "Epoch 5\n",
      "-------------------------------\n",
      "loss: 0.14506998658180237 [128/59904]\n",
      "loss: 0.18696917593479156 [6016/59904]\n",
      "loss: 0.14680707454681396 [11904/59904]\n",
      "loss: 0.2450624257326126 [17792/59904]\n",
      "loss: 0.11966465413570404 [23680/59904]\n",
      "loss: 0.16622254252433777 [29568/59904]\n",
      "loss: 0.06379936635494232 [35456/59904]\n",
      "loss: 0.22145719826221466 [41344/59904]\n",
      "loss: 0.10831060260534286 [47232/59904]\n",
      "loss: 0.12709149718284607 [53120/59904]\n",
      "loss: 0.0114661930128932 [59008/59904]\n",
      "Avg error:  0.12582737 \n",
      "\n",
      "Epoch 6\n",
      "-------------------------------\n",
      "loss: 0.13889437913894653 [128/59904]\n",
      "loss: 0.17966516315937042 [6016/59904]\n",
      "loss: 0.08059224486351013 [11904/59904]\n",
      "loss: 0.19787326455116272 [17792/59904]\n",
      "loss: 0.10656225681304932 [23680/59904]\n",
      "loss: 0.12355554848909378 [29568/59904]\n",
      "loss: 0.06560276448726654 [35456/59904]\n",
      "loss: 0.1776657998561859 [41344/59904]\n",
      "loss: 0.09046443551778793 [47232/59904]\n",
      "loss: 0.08603359758853912 [53120/59904]\n",
      "loss: 0.007157951593399048 [59008/59904]\n",
      "Avg error:  0.11060828 \n",
      "\n",
      "Epoch 7\n",
      "-------------------------------\n",
      "loss: 0.13520021736621857 [128/59904]\n",
      "loss: 0.17956015467643738 [6016/59904]\n",
      "loss: 0.08109508454799652 [11904/59904]\n",
      "loss: 0.14127051830291748 [17792/59904]\n",
      "loss: 0.09986600279808044 [23680/59904]\n",
      "loss: 0.10090213268995285 [29568/59904]\n",
      "loss: 0.06183722987771034 [35456/59904]\n",
      "loss: 0.1666518598794937 [41344/59904]\n",
      "loss: 0.07373058795928955 [47232/59904]\n",
      "loss: 0.06705377250909805 [53120/59904]\n",
      "loss: 0.01061588991433382 [59008/59904]\n",
      "Avg error:  0.09791538 \n",
      "\n",
      "Epoch 8\n",
      "-------------------------------\n",
      "loss: 0.12731775641441345 [128/59904]\n",
      "loss: 0.161611869931221 [6016/59904]\n",
      "loss: 0.07527228444814682 [11904/59904]\n",
      "loss: 0.1221921294927597 [17792/59904]\n",
      "loss: 0.09497859328985214 [23680/59904]\n",
      "loss: 0.06626375764608383 [29568/59904]\n",
      "loss: 0.04327986016869545 [35456/59904]\n",
      "loss: 0.17443032562732697 [41344/59904]\n",
      "loss: 0.051092907786369324 [47232/59904]\n",
      "loss: 0.035430118441581726 [53120/59904]\n",
      "loss: 0.009228013455867767 [59008/59904]\n",
      "Avg error:  0.08695322 \n",
      "\n",
      "Epoch 9\n",
      "-------------------------------\n",
      "loss: 0.09202443063259125 [128/59904]\n",
      "loss: 0.12894943356513977 [6016/59904]\n",
      "loss: 0.06898103654384613 [11904/59904]\n",
      "loss: 0.08529750257730484 [17792/59904]\n",
      "loss: 0.06051480025053024 [23680/59904]\n",
      "loss: 0.0710860937833786 [29568/59904]\n",
      "loss: 0.03404722735285759 [35456/59904]\n",
      "loss: 0.1715773493051529 [41344/59904]\n",
      "loss: 0.0523996464908123 [47232/59904]\n",
      "loss: 0.03825727850198746 [53120/59904]\n",
      "loss: 0.0077358814887702465 [59008/59904]\n",
      "Avg error:  0.07693361 \n",
      "\n",
      "Epoch 10\n",
      "-------------------------------\n",
      "loss: 0.10843785107135773 [128/59904]\n",
      "loss: 0.09804075956344604 [6016/59904]\n",
      "loss: 0.05562791973352432 [11904/59904]\n",
      "loss: 0.053769297897815704 [17792/59904]\n",
      "loss: 0.029649384319782257 [23680/59904]\n",
      "loss: 0.04609294235706329 [29568/59904]\n"
     ]
    },
    {
     "name": "stderr",
     "output_type": "stream",
     "text": [
      "/home/eric/Documents/AI_FRAMEWORK/NN/framework.py:363: RuntimeWarning: divide by zero encountered in log\n",
      "  loss = -(np.log(softmax) * y.data).sum(1).mean()\n",
      "/home/eric/Documents/AI_FRAMEWORK/NN/framework.py:363: RuntimeWarning: invalid value encountered in multiply\n",
      "  loss = -(np.log(softmax) * y.data).sum(1).mean()\n"
     ]
    },
    {
     "name": "stdout",
     "output_type": "stream",
     "text": [
      "loss: 0.01713491976261139 [35456/59904]\n",
      "loss: 0.1531791090965271 [41344/59904]\n",
      "loss: 0.048473745584487915 [47232/59904]\n",
      "loss: 0.0558614507317543 [53120/59904]\n",
      "loss: 0.01211558561772108 [59008/59904]\n",
      "Avg error:  nan \n",
      "\n"
     ]
    }
   ],
   "source": [
    "batch_size = 128\n",
    "num_batches = int(len(train_label)/batch_size)\n",
    "epochs = 10\n",
    "\n",
    "\n",
    "for epoch in range(epochs):\n",
    "\n",
    "    print(f\"Epoch {epoch+1}\\n-------------------------------\")\n",
    "\n",
    "    total_loss = 0\n",
    "    correct = 0\n",
    "\n",
    "    for batch in range(num_batches):\n",
    "        batch_start, batch_end = (batch * batch_size, (batch + 1) * batch_size)\n",
    "\n",
    "        inpt = fm.Tensor(train_image[batch_start:batch_end])\n",
    "        label = fm.Tensor(train_label[batch_start:batch_end])\n",
    "        \n",
    "        pred = model.forward(inpt)\n",
    "\n",
    "        pred_nums = np.argmax(pred.data, axis=1)\n",
    "        label_nums = np.argmax(label.data, axis=1)\n",
    "\n",
    "        correct += (pred_nums == label_nums).sum()\n",
    "        \n",
    "        loss = loss_fn.forward(pred, label)\n",
    "\n",
    "        total_loss += loss \n",
    "\n",
    "        if batch % int(num_batches/10) == 0:\n",
    "            print(f\"loss: {loss} [{(batch+1)*batch_size}/{batch_size*num_batches}]\")   \n",
    "            correct = 0\n",
    "      \n",
    "        loss_fn.backward()\n",
    "\n",
    "        optim.step()\n",
    "\n",
    "    print(\"Avg error: \", total_loss / num_batches, \"\\n\")  "
   ]
  },
  {
   "cell_type": "markdown",
   "metadata": {},
   "source": [
    "### Saving model"
   ]
  },
  {
   "cell_type": "code",
   "execution_count": 16,
   "metadata": {},
   "outputs": [
    {
     "name": "stdout",
     "output_type": "stream",
     "text": [
      "Object saved successfully.\n"
     ]
    }
   ],
   "source": [
    "model.save(\"97_71precision\")"
   ]
  },
  {
   "cell_type": "markdown",
   "metadata": {},
   "source": [
    "### Load Model"
   ]
  },
  {
   "cell_type": "code",
   "execution_count": null,
   "metadata": {},
   "outputs": [
    {
     "name": "stdout",
     "output_type": "stream",
     "text": [
      "Object loaded successfully.\n"
     ]
    }
   ],
   "source": [
    "import pickle\n",
    "import framework as fm \n",
    "import numpy as np \n",
    "import pandas as np\n",
    "\n",
    "with open('97precision.pkl', 'rb') as file:\n",
    "    model = pickle.load(file)\n",
    "\n",
    "print(\"Object loaded successfully.\")"
   ]
  },
  {
   "cell_type": "markdown",
   "metadata": {},
   "source": [
    "#### Test Accuracy"
   ]
  },
  {
   "cell_type": "code",
   "execution_count": 7,
   "metadata": {},
   "outputs": [
    {
     "name": "stdout",
     "output_type": "stream",
     "text": [
      "Accuracy: 96.79153311965813 %\n"
     ]
    }
   ],
   "source": [
    "# Testing\n",
    "model.test()\n",
    "correct = 0\n",
    "batch_size = 128\n",
    "num_batches = int(len(train_label)/batch_size)\n",
    "for batch in range(num_batches):\n",
    "        batch_start, batch_end = (batch * batch_size, (batch + 1) * batch_size)\n",
    "\n",
    "        inpt = fm.Tensor(test_image[batch_start:batch_end])\n",
    "        label = fm.Tensor(test_label[batch_start:batch_end])\n",
    "        \n",
    "        pred = model.forward(inpt)\n",
    "\n",
    "        pred_nums = np.argmax(pred.data, axis=1)\n",
    "        label_nums = np.argmax(label.data, axis=1)\n",
    "\n",
    "        correct += (pred_nums == label_nums).sum()\n",
    "\n",
    "print(\"Accuracy:\", correct / (batch_size * num_batches) * 100, \"%\")"
   ]
  },
  {
   "cell_type": "markdown",
   "metadata": {},
   "source": [
    "#### Creation of API"
   ]
  },
  {
   "cell_type": "code",
   "execution_count": null,
   "metadata": {},
   "outputs": [
    {
     "name": "stderr",
     "output_type": "stream",
     "text": [
      "INFO:     Started server process [32010]\n",
      "INFO:     Waiting for application startup.\n",
      "INFO:     Application startup complete.\n",
      "INFO:     Uvicorn running on http://127.0.0.1:3838 (Press CTRL+C to quit)\n"
     ]
    },
    {
     "name": "stdout",
     "output_type": "stream",
     "text": [
      "INFO:     127.0.0.1:34164 - \"OPTIONS /predict HTTP/1.1\" 200 OK\n",
      "INFO:     127.0.0.1:34164 - \"POST /predict HTTP/1.1\" 200 OK\n",
      "INFO:     127.0.0.1:40308 - \"POST /predict HTTP/1.1\" 200 OK\n",
      "INFO:     127.0.0.1:40308 - \"POST /predict HTTP/1.1\" 200 OK\n",
      "INFO:     127.0.0.1:40308 - \"POST /predict HTTP/1.1\" 200 OK\n",
      "INFO:     127.0.0.1:40308 - \"POST /predict HTTP/1.1\" 200 OK\n"
     ]
    },
    {
     "name": "stderr",
     "output_type": "stream",
     "text": [
      "INFO:     Shutting down\n",
      "INFO:     Waiting for application shutdown.\n",
      "INFO:     Application shutdown complete.\n",
      "INFO:     Finished server process [32010]\n"
     ]
    }
   ],
   "source": [
    "import uvicorn\n",
    "from fastapi import Request, FastAPI\n",
    "from fastapi.middleware.cors import CORSMiddleware\n",
    "import nest_asyncio\n",
    "\n",
    "app = FastAPI()\n",
    "\n",
    "app.add_middleware(\n",
    "    CORSMiddleware,\n",
    "    allow_origins=[\"*\"],\n",
    "    allow_credentials=True,\n",
    "    allow_methods=[\"*\"],\n",
    "    allow_headers=[\"*\"],\n",
    ")\n",
    "\n",
    "@app.post(\"/predict\")\n",
    "async def predict(request: Request):\n",
    "    res = await request.json()\n",
    "    picture = fm.Tensor(np.array(res).reshape((1, 1, 28, 28)))\n",
    "    pred = model.forward(picture)\n",
    "    num = int(np.argmax(pred.data, axis=1))\n",
    "\n",
    "    return num\n",
    "\n",
    "if __name__ == \"__main__\":\n",
    "    \n",
    "    nest_asyncio.apply()  # Allow asyncio.run to work in a running loop\n",
    "    uvicorn.run(app, host=\"127.0.0.1\", port=3838)"
   ]
  },
  {
   "cell_type": "code",
   "execution_count": 2,
   "metadata": {},
   "outputs": [
    {
     "name": "stdout",
     "output_type": "stream",
     "text": [
      "Data:  [[[0.5488135  0.71518934 0.60276335]\n",
      "  [0.5448832  0.4236548  0.6458941 ]\n",
      "  [0.4375872  0.891773   0.96366274]\n",
      "  [0.3834415  0.79172504 0.5288949 ]]]\n",
      "Res:  [[[-1.0585594   1.33951    -0.2809497 ]\n",
      "  [ 0.0741307  -1.2593846   1.1852533 ]\n",
      "  [-1.4028116   0.54708767  0.855723  ]\n",
      "  [-1.0922413   1.3237654  -0.2315248 ]]]\n",
      "Max: 0.96366274 Min: 0.3834415 Var: [[0.00480346 0.00825443 0.05424537 0.02854798]] Mean: [[0.6222554  0.53814405 0.76434106 0.5680205 ]]\n",
      "Data Loss:  [[[14.413569  14.413569  14.413569 ]\n",
      "  [11.000024  11.000024  11.000024 ]\n",
      "  [ 4.2931757  4.2931757  4.2931757]\n",
      "  [ 5.917473   5.917473   5.917473 ]]]\n"
     ]
    }
   ],
   "source": [
    "import numpy as np\n",
    "import framework as fm\n",
    "\n",
    "np.random.seed(0)\n",
    "data = fm.Tensor(np.random.random((1, 4, 3)))\n",
    "drop = fm.BatchNorm(axis=2)\n",
    "drop.training = True\n",
    "\n",
    "res = drop.forward(data)\n",
    "\n",
    "loss = fm.Tensor(np.ones((data.data.shape)))\n",
    "\n",
    "print(\"Data: \", data)\n",
    "\n",
    "print(\"Res: \", res)\n",
    "print(\"Max:\", data.data.max(), \"Min:\", data.data.min(), \"Var:\", data.data.var(axis=2), \"Mean:\", data.data.mean(axis=2))\n",
    "\n",
    "res.backward(loss)\n",
    "\n",
    "print(\"Data Loss: \", data.gradient)"
   ]
  }
 ],
 "metadata": {
  "kernelspec": {
   "display_name": "Python 3",
   "language": "python",
   "name": "python3"
  },
  "language_info": {
   "codemirror_mode": {
    "name": "ipython",
    "version": 3
   },
   "file_extension": ".py",
   "mimetype": "text/x-python",
   "name": "python",
   "nbconvert_exporter": "python",
   "pygments_lexer": "ipython3",
   "version": "3.12.9"
  }
 },
 "nbformat": 4,
 "nbformat_minor": 4
}
