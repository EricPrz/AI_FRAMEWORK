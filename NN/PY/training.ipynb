{
 "cells": [
  {
   "cell_type": "markdown",
   "metadata": {},
   "source": [
    "### Reading MNIST"
   ]
  },
  {
   "cell_type": "code",
   "execution_count": 1,
   "metadata": {},
   "outputs": [],
   "source": [
    "import pandas as pd\n",
    "import numpy as np\n",
    "\n",
    "\n",
    "train = pd.read_csv(\"../data/mnist_train.csv\")\n",
    "test = pd.read_csv(\"../data/mnist_test.csv\")\n",
    "\n",
    "# Reestructuring\n",
    "train_label, train_image = train[\"label\"].to_numpy(), train[[x for x in train.columns if x != \"label\"]].to_numpy().reshape((-1, 1, 28, 28))/255\n",
    "test_label, test_image = train[\"label\"].to_numpy(), train[[x for x in train.columns if x != \"label\"]].to_numpy().reshape((-1, 1, 28, 28))/255\n",
    "\n",
    "# One-hotting\n",
    "one_hot = np.zeros((len(train_label), 10))\n",
    "for label in range(train_label.shape[0]):\n",
    "    one_hot[label, train_label[label]] = 1\n",
    "train_label = one_hot\n",
    "\n",
    "one_hot = np.zeros((len(test_label), 10))\n",
    "for label in range(test_label.shape[0]):\n",
    "    one_hot[label, test_label[label]] = 1\n",
    "test_label = one_hot"
   ]
  },
  {
   "cell_type": "markdown",
   "metadata": {},
   "source": [
    "### Creating The Model"
   ]
  },
  {
   "cell_type": "code",
   "execution_count": 8,
   "metadata": {},
   "outputs": [],
   "source": [
    "import framework as fm\n",
    "\n",
    "class Model(fm.Module):\n",
    "    def __init__(self):\n",
    "        super().__init__()\n",
    "        self.conv1 = fm.Conv2d(1, 6, 5, 1, bias = False)\n",
    "        self.relu1 = fm.ReLu()\n",
    "        self.maxpool1 = fm.MaxPool2d(2, 6, 2)\n",
    "\n",
    "        self.conv2 = fm.Conv2d(6, 16, 5, 1, bias = False)\n",
    "        self.maxpool2 = fm.MaxPool2d(2, 16, 2)\n",
    "        self.bn1 = fm.BatchNorm(1)\n",
    "        self.drop1 = fm.Dropout(0.4)\n",
    "        self.lin1 = fm.Linear(256, 84, bias=False)\n",
    "        self.bn2 = fm.BatchNorm(1)\n",
    "        self.drop2 = fm.Dropout(0.2)\n",
    "        self.lin2 = fm.Linear(84, 10, bias=False)\n",
    "\n",
    "\n",
    "    def forward(self, x):\n",
    "        x = self.conv1.forward(x) \n",
    "        x = self.relu1.forward(x) \n",
    "        x = self.maxpool1.forward(x)\n",
    "        x = self.conv2.forward(x)\n",
    "        x = self.maxpool2.forward(x)\n",
    "        x = x.reshape((-1, 256))\n",
    "        x = self.bn1.forward(x)\n",
    "        x = self.drop1.forward(x)\n",
    "        x = self.lin1.forward(x) \n",
    "        x = self.bn2.forward(x)\n",
    "        x = self.drop2.forward(x)\n",
    "        x = self.lin2.forward(x)\n",
    "        return x\n",
    "\n",
    "model = Model()\n",
    "model.train()\n",
    "loss_fn = fm.CrossEntropy()\n",
    "optim = fm.Adam(model.get_parameters(), lr=0.001)\n"
   ]
  },
  {
   "cell_type": "code",
   "execution_count": 6,
   "metadata": {},
   "outputs": [],
   "source": [
    "import framework as fm\n",
    "import time\n",
    "\n",
    "class Model(fm.Module):\n",
    "    def __init__(self):\n",
    "        super().__init__()\n",
    "        self.conv1 = fm.Conv2d(1, 32, 5, 1, bias = False)\n",
    "        self.conv2 = fm.Conv2dC(32, 32, 5, 1, bias = False)\n",
    "        self.bn1 = fm.BatchNorm(1)\n",
    "        self.relu1 = fm.ReLu()\n",
    "        self.maxpool1 = fm.MaxPool2d(2, 32, 2)\n",
    "        self.dropout1 = fm.Dropout(0.25)\n",
    "        self.conv3 = fm.Conv2d(32, 64, 3, bias=False)\n",
    "        self.relu2 = fm.ReLu()\n",
    "        self.conv4 = fm.Conv2d(64, 64, 3, bias=False)\n",
    "        self.bn2 = fm.BatchNorm(1)\n",
    "        self.relu3 = fm.ReLu()\n",
    "        self.maxpool2 = fm.MaxPool2d(2, 64, 2)\n",
    "        self.dropout2 = fm.Dropout(0.25)\n",
    "        self.lin1 = fm.Linear(576, 256)\n",
    "        self.bn3 = fm.BatchNorm(0)\n",
    "        self.relu4 = fm.ReLu()\n",
    "        self.lin2 = fm.Linear(256, 128)\n",
    "        self.bn4 = fm.BatchNorm(0)\n",
    "        self.relu5 = fm.ReLu()\n",
    "        self.lin3 = fm.Linear(128, 84)\n",
    "        self.bn5 = fm.BatchNorm(0)\n",
    "        self.relu6 = fm.ReLu()\n",
    "        self.dropout3 = fm.Dropout(0.25)\n",
    "        self.lin4 = fm.Linear(84, 10)\n",
    "\n",
    "\n",
    "\n",
    "    def forward(self, inpt):\n",
    "        initTime = time.time()\n",
    "        x = self.conv1.forward(inpt) \n",
    "        print(\"Time:\", time.time()- initTime)\n",
    "        initTime = time.time()\n",
    "        x = self.conv2.forward(x) \n",
    "        print(\"Time:\", time.time()- initTime)\n",
    "        initTime = time.time()\n",
    "        x = self.bn1.forward(x)\n",
    "        print(\"Time:\", time.time()- initTime)\n",
    "        initTime = time.time()\n",
    "        x = self.relu1.forward(x) \n",
    "        print(\"Time:\", time.time()- initTime)\n",
    "        initTime = time.time()\n",
    "        x = self.maxpool1.forward(x)\n",
    "        print(\"Time:\", time.time()- initTime)\n",
    "        initTime = time.time()\n",
    "        x = self.dropout1.forward(x)\n",
    "        print(\"Time:\", time.time()- initTime)\n",
    "        initTime = time.time()\n",
    "        x = self.conv3.forward(x) \n",
    "        print(\"Time:\", time.time()- initTime)\n",
    "        initTime = time.time()\n",
    "        x = self.relu2.forward(x) \n",
    "        print(\"Time:\", time.time()- initTime)\n",
    "        initTime = time.time()\n",
    "        x = self.conv4.forward(x)\n",
    "        print(\"Time:\", time.time()- initTime)\n",
    "        initTime = time.time()\n",
    "        x = self.bn2.forward(x)\n",
    "        print(\"Time:\", time.time()- initTime)\n",
    "        initTime = time.time()\n",
    "        x = self.relu3.forward(x) \n",
    "        print(\"Time:\", time.time()- initTime)\n",
    "        initTime = time.time()\n",
    "        x = self.maxpool2.forward(x)\n",
    "        print(\"Time:\", time.time()- initTime)\n",
    "        initTime = time.time()\n",
    "        x = self.dropout2.forward(x)\n",
    "        print(\"Time:\", time.time()- initTime)\n",
    "        initTime = time.time()\n",
    "        x = x.reshape((inpt.shape[0], x.shape[1] * x.shape[2] * x.shape[3]))\n",
    "        print(\"Time:\", time.time()- initTime)\n",
    "        initTime = time.time()\n",
    "        x = self.lin1.forward(x)\n",
    "        print(\"Time:\", time.time()- initTime)\n",
    "        initTime = time.time()\n",
    "        x = self.bn3.forward(x)\n",
    "        print(\"Time:\", time.time()- initTime)\n",
    "        initTime = time.time()\n",
    "        x = self.relu4.forward(x)\n",
    "        print(\"Time:\", time.time()- initTime)\n",
    "        initTime = time.time()\n",
    "        x = self.lin2.forward(x)\n",
    "        print(\"Time:\", time.time()- initTime)\n",
    "        initTime = time.time()\n",
    "        x = self.bn4.forward(x)\n",
    "        print(\"Time:\", time.time()- initTime)\n",
    "        initTime = time.time()\n",
    "        x = self.relu5.forward(x)\n",
    "        print(\"Time:\", time.time()- initTime)\n",
    "        initTime = time.time()\n",
    "        x = self.lin3.forward(x)\n",
    "        print(\"Time:\", time.time()- initTime)\n",
    "        initTime = time.time()\n",
    "        x = self.bn5.forward(x)\n",
    "        print(\"Time:\", time.time()- initTime)\n",
    "        initTime = time.time()\n",
    "        x = self.relu6.forward(x)\n",
    "        print(\"Time:\", time.time()- initTime)\n",
    "        initTime = time.time()\n",
    "        x = self.dropout3.forward(x)\n",
    "        print(\"Time:\", time.time()- initTime)\n",
    "        initTime = time.time()\n",
    "        x = self.lin4.forward(x) \n",
    "        print(\"Time:\", time.time()- initTime)\n",
    "        return x\n",
    "\n",
    "model = Model()\n",
    "model.train()\n",
    "loss_fn = fm.CrossEntropy()\n",
    "optim = fm.Adam(model.get_parameters(), lr=0.001)"
   ]
  },
  {
   "cell_type": "markdown",
   "metadata": {},
   "source": [
    "#### Training The Model"
   ]
  },
  {
   "cell_type": "code",
   "execution_count": 10,
   "metadata": {},
   "outputs": [],
   "source": [
    "def train(model, x, y, batch_size, loss_fn, optim):\n",
    "\n",
    "    num_batches = int(len(y)/batch_size)\n",
    "\n",
    "    total_loss = 0\n",
    "    total_correct = 0\n",
    "\n",
    "    for batch in range(num_batches):\n",
    "        batch_start, batch_end = (batch * batch_size, (batch + 1) * batch_size)\n",
    "\n",
    "        inpt = fm.Tensor(x[batch_start:batch_end])\n",
    "        label = fm.Tensor(y[batch_start:batch_end])\n",
    "        \n",
    "        pred = model.forward(inpt)\n",
    "\n",
    "        pred_nums = np.argmax(pred.data, axis=1)\n",
    "        label_nums = np.argmax(label.data, axis=1)\n",
    "\n",
    "        correct = (pred_nums == label_nums).sum()\n",
    "        \n",
    "        loss = loss_fn.forward(pred, label)\n",
    "\n",
    "        total_loss += loss \n",
    "        total_correct += correct\n",
    "\n",
    "        if batch % int(num_batches/10) == 0:\n",
    "            print(f\"loss: {loss} [{(batch+1)*batch_size}/{batch_size*num_batches}]\")   \n",
    "      \n",
    "        loss_fn.backward()\n",
    "        optim.step()\n",
    "\n",
    "    total_loss /= num_batches\n",
    "    total_correct /= num_batches * batch_size\n",
    "\n",
    "    print(\"Avg error: \", total_loss)\n",
    "    print(\"Train Precision: \", total_correct, \"\\n\")  \n",
    "\n",
    "    return total_loss, total_correct\n"
   ]
  },
  {
   "cell_type": "code",
   "execution_count": 11,
   "metadata": {},
   "outputs": [],
   "source": [
    "def test(model, x, y, batch_size):\n",
    "    model.test()\n",
    "    correct = 0\n",
    "    batch_size = 128\n",
    "    num_batches = int(len(y)/batch_size)\n",
    "    for batch in range(num_batches):\n",
    "            batch_start, batch_end = (batch * batch_size, (batch + 1) * batch_size)\n",
    "\n",
    "            inpt = fm.Tensor(x[batch_start:batch_end])\n",
    "            label = fm.Tensor(y[batch_start:batch_end])\n",
    "            \n",
    "            pred = model.forward(inpt)\n",
    "\n",
    "            pred_nums = np.argmax(pred.data, axis=1)\n",
    "            label_nums = np.argmax(label.data, axis=1)\n",
    "\n",
    "            correct += (pred_nums == label_nums).sum()\n",
    "\n",
    "    correct /= batch_size * num_batches\n",
    "\n",
    "    print(\"Test Accuracy:\", correct * 100, \"%\\n\")\n",
    "    return correct"
   ]
  },
  {
   "cell_type": "code",
   "execution_count": null,
   "metadata": {},
   "outputs": [
    {
     "name": "stdout",
     "output_type": "stream",
     "text": [
      "Epoch 1\n",
      "-------------------------------\n",
      "loss: 1.2489986419677734 [128/59904]\n"
     ]
    }
   ],
   "source": [
    "import matplotlib.pyplot as plt\n",
    "\n",
    "losses = []\n",
    "train_precision = []\n",
    "\n",
    "test_precision = []\n",
    "\n",
    "epochs = 30\n",
    "\n",
    "for epoch in range(epochs):\n",
    "    print(f\"Epoch {epoch + 1}\\n-------------------------------\")\n",
    "    model.train()\n",
    "\n",
    "    loss, precision = train(model, train_image, train_label, 128, loss_fn, optim)\n",
    "    \n",
    "    losses.append(loss)\n",
    "    train_precision.append(precision)\n",
    "\n",
    "    if epoch % 2 == 0:\n",
    "        model.test()\n",
    "        precision = test(model, test_image, test_label, 128)\n",
    "\n",
    "        test_precision.append(precision)\n"
   ]
  },
  {
   "cell_type": "code",
   "execution_count": 51,
   "metadata": {},
   "outputs": [
    {
     "data": {
      "image/png": "[encoded data removed]",
      "text/plain": [
       "<Figure size 640x480 with 1 Axes>"
      ]
     },
     "metadata": {},
     "output_type": "display_data"
    }
   ],
   "source": [
    "plt.plot(losses)\n",
    "plt.plot(train_precision)\n",
    "plt.plot(np.arange(0, 9, 2), test_precision, \"g*--\")\n",
    "\n",
    "plt.show()"
   ]
  },
  {
   "cell_type": "markdown",
   "metadata": {},
   "source": [
    "### Saving model"
   ]
  },
  {
   "cell_type": "code",
   "execution_count": 16,
   "metadata": {},
   "outputs": [
    {
     "name": "stdout",
     "output_type": "stream",
     "text": [
      "Object saved successfully.\n"
     ]
    }
   ],
   "source": [
    "model.save(\"97_71precision\")"
   ]
  },
  {
   "cell_type": "markdown",
   "metadata": {},
   "source": [
    "### Load Model"
   ]
  },
  {
   "cell_type": "code",
   "execution_count": null,
   "metadata": {},
   "outputs": [
    {
     "name": "stdout",
     "output_type": "stream",
     "text": [
      "Object loaded successfully.\n"
     ]
    }
   ],
   "source": [
    "import pickle\n",
    "import framework as fm \n",
    "import numpy as np \n",
    "import pandas as np\n",
    "\n",
    "with open('97precision.pkl', 'rb') as file:\n",
    "    model = pickle.load(file)\n",
    "\n",
    "print(\"Object loaded successfully.\")"
   ]
  },
  {
   "cell_type": "markdown",
   "metadata": {},
   "source": [
    "#### Test Accuracy"
   ]
  },
  {
   "cell_type": "code",
   "execution_count": 29,
   "metadata": {},
   "outputs": [
    {
     "name": "stdout",
     "output_type": "stream",
     "text": [
      "Accuracy: 97.48597756410257 %\n"
     ]
    }
   ],
   "source": [
    "# Testing\n",
    "model.test()\n",
    "correct = 0\n",
    "batch_size = 128\n",
    "num_batches = int(len(train_label)/batch_size)\n",
    "for batch in range(num_batches):\n",
    "        batch_start, batch_end = (batch * batch_size, (batch + 1) * batch_size)\n",
    "\n",
    "        inpt = fm.Tensor(test_image[batch_start:batch_end])\n",
    "        label = fm.Tensor(test_label[batch_start:batch_end])\n",
    "        \n",
    "        pred = model.forward(inpt)\n",
    "\n",
    "        pred_nums = np.argmax(pred.data, axis=1)\n",
    "        label_nums = np.argmax(label.data, axis=1)\n",
    "\n",
    "        correct += (pred_nums == label_nums).sum()\n",
    "\n",
    "print(\"Accuracy:\", correct / (batch_size * num_batches) * 100, \"%\")"
   ]
  },
  {
   "cell_type": "markdown",
   "metadata": {},
   "source": [
    "#### Creation of API"
   ]
  },
  {
   "cell_type": "code",
   "execution_count": 7,
   "metadata": {},
   "outputs": [
    {
     "name": "stderr",
     "output_type": "stream",
     "text": [
      "INFO:     Started server process [5888]\n",
      "INFO:     Waiting for application startup.\n",
      "INFO:     Application startup complete.\n",
      "INFO:     Uvicorn running on http://127.0.0.1:3838 (Press CTRL+C to quit)\n"
     ]
    },
    {
     "name": "stdout",
     "output_type": "stream",
     "text": [
      "INFO:     127.0.0.1:41430 - \"OPTIONS /predict HTTP/1.1\" 200 OK\n",
      "INFO:     127.0.0.1:41436 - \"POST /predict HTTP/1.1\" 200 OK\n"
     ]
    },
    {
     "name": "stderr",
     "output_type": "stream",
     "text": [
      "/tmp/ipykernel_5888/1124103067.py:21: DeprecationWarning: Conversion of an array with ndim > 0 to a scalar is deprecated, and will error in future. Ensure you extract a single element from your array before performing this operation. (Deprecated NumPy 1.25.)\n",
      "  num = int(np.argmax(pred.data, axis=1))\n"
     ]
    },
    {
     "name": "stdout",
     "output_type": "stream",
     "text": [
      "INFO:     127.0.0.1:41436 - \"POST /predict HTTP/1.1\" 200 OK\n",
      "INFO:     127.0.0.1:41436 - \"POST /predict HTTP/1.1\" 200 OK\n",
      "INFO:     127.0.0.1:41436 - \"POST /predict HTTP/1.1\" 200 OK\n",
      "INFO:     127.0.0.1:41436 - \"POST /predict HTTP/1.1\" 200 OK\n",
      "INFO:     127.0.0.1:41436 - \"POST /predict HTTP/1.1\" 200 OK\n",
      "INFO:     127.0.0.1:41436 - \"POST /predict HTTP/1.1\" 200 OK\n",
      "INFO:     127.0.0.1:41436 - \"POST /predict HTTP/1.1\" 200 OK\n",
      "INFO:     127.0.0.1:41436 - \"POST /predict HTTP/1.1\" 200 OK\n",
      "INFO:     127.0.0.1:41436 - \"POST /predict HTTP/1.1\" 200 OK\n",
      "INFO:     127.0.0.1:41436 - \"POST /predict HTTP/1.1\" 200 OK\n",
      "INFO:     127.0.0.1:57716 - \"POST /predict HTTP/1.1\" 200 OK\n",
      "INFO:     127.0.0.1:57716 - \"POST /predict HTTP/1.1\" 200 OK\n",
      "INFO:     127.0.0.1:57716 - \"POST /predict HTTP/1.1\" 200 OK\n",
      "INFO:     127.0.0.1:57716 - \"POST /predict HTTP/1.1\" 200 OK\n",
      "INFO:     127.0.0.1:57716 - \"POST /predict HTTP/1.1\" 200 OK\n",
      "INFO:     127.0.0.1:57716 - \"POST /predict HTTP/1.1\" 200 OK\n",
      "INFO:     127.0.0.1:57716 - \"POST /predict HTTP/1.1\" 200 OK\n",
      "INFO:     127.0.0.1:57716 - \"POST /predict HTTP/1.1\" 200 OK\n",
      "INFO:     127.0.0.1:57716 - \"POST /predict HTTP/1.1\" 200 OK\n"
     ]
    },
    {
     "name": "stderr",
     "output_type": "stream",
     "text": [
      "INFO:     Shutting down\n",
      "INFO:     Waiting for application shutdown.\n",
      "INFO:     Application shutdown complete.\n",
      "INFO:     Finished server process [5888]\n"
     ]
    }
   ],
   "source": [
    "import uvicorn\n",
    "from fastapi import Request, FastAPI\n",
    "from fastapi.middleware.cors import CORSMiddleware\n",
    "import nest_asyncio\n",
    "\n",
    "app = FastAPI()\n",
    "\n",
    "app.add_middleware(\n",
    "    CORSMiddleware,\n",
    "    allow_origins=[\"*\"],\n",
    "    allow_credentials=True,\n",
    "    allow_methods=[\"*\"],\n",
    "    allow_headers=[\"*\"],\n",
    ")\n",
    "\n",
    "@app.post(\"/predict\")\n",
    "async def predict(request: Request):\n",
    "    res = await request.json()\n",
    "    picture = fm.Tensor(np.array(res).reshape((1, 1, 28, 28)))\n",
    "    pred = model.forward(picture)\n",
    "    num = int(np.argmax(pred.data, axis=1))\n",
    "\n",
    "    return num\n",
    "\n",
    "if __name__ == \"__main__\":\n",
    "    \n",
    "    nest_asyncio.apply()  # Allow asyncio.run to work in a running loop\n",
    "    uvicorn.run(app, host=\"127.0.0.1\", port=3838)"
   ]
  },
  {
   "cell_type": "code",
   "execution_count": 27,
   "metadata": {},
   "outputs": [
    {
     "name": "stdout",
     "output_type": "stream",
     "text": [
      "Data:  [[0.5488135  0.71518934 0.60276335 0.5448832  0.4236548  0.6458941\n",
      "  0.4375872  0.891773   0.96366274 0.3834415 ]]\n",
      "[[0. 0. 0. 1. 0. 0. 0. 1. 0. 1.]]\n",
      "Res:  [[0.        0.        0.        0.5448832 0.        0.        0.\n",
      "  0.891773  0.        0.3834415]]\n",
      "Data Loss:  [[0. 0. 0. 1. 0. 0. 0. 1. 0. 1.]]\n"
     ]
    }
   ],
   "source": [
    "import numpy as np\n",
    "import framework as fm\n",
    "\n",
    "np.random.seed(0)\n",
    "data = fm.Tensor(np.random.random((1, 10)))\n",
    "drop = fm.Dropout(0.2)\n",
    "drop.training = True\n",
    "\n",
    "res = drop.forward(data)\n",
    "\n",
    "loss = fm.Tensor(np.ones((data.data.shape)))\n",
    "\n",
    "print(\"Data: \", data)\n",
    "\n",
    "print(drop.mask)\n",
    "\n",
    "print(\"Res: \", res)\n",
    "\n",
    "res.backward(loss)\n",
    "\n",
    "print(\"Data Loss: \", data.gradient)"
   ]
  },
  {
   "cell_type": "code",
   "execution_count": 1,
   "metadata": {},
   "outputs": [
    {
     "name": "stdout",
     "output_type": "stream",
     "text": [
      "CPU times: user 2.45 s, sys: 12.9 s, total: 15.4 s\n",
      "Wall time: 14.8 s\n"
     ]
    }
   ],
   "source": [
    "%%time\n",
    "\n",
    "import numpy as np\n",
    "import framework as fm\n",
    "\n",
    "np.random.seed(0)\n",
    "\n",
    "conv = fm.Conv2dC(1, 6, 5, 1, bias = False)\n",
    "x = np.random.random((30000, 1, 28, 28))\n",
    "res = conv.forward(fm.Tensor(x))"
   ]
  }
 ],
 "metadata": {
  "kernelspec": {
   "display_name": "Python 3 (ipykernel)",
   "language": "python",
   "name": "python3"
  },
  "language_info": {
   "codemirror_mode": {
    "name": "ipython",
    "version": 3
   },
   "file_extension": ".py",
   "mimetype": "text/x-python",
   "name": "python",
   "nbconvert_exporter": "python",
   "pygments_lexer": "ipython3",
   "version": "3.12.9"
  }
 },
 "nbformat": 4,
 "nbformat_minor": 4
}
