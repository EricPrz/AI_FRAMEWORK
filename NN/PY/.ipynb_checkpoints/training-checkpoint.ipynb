{
 "cells": [
  {
   "cell_type": "markdown",
   "metadata": {},
   "source": [
    "### Reading MNIST"
   ]
  },
  {
   "cell_type": "code",
   "execution_count": 14,
   "metadata": {},
   "outputs": [],
   "source": [
    "import pandas as pd\n",
    "import numpy as np\n",
    "\n",
    "\n",
    "#train = pd.read_csv(\"../data/mnist_train.csv\")\n",
    "#test = pd.read_csv(\"../data/mnist_test.csv\")\n",
    "train = pd.read_csv(\"../data/emnist-balanced-train.csv\")\n",
    "test = pd.read_csv(\"../data/emnist-balanced-test.csv\")\n",
    "\n",
    "# Reestructuring\n",
    "train_label, train_image = train[train.columns[0]].to_numpy(), train[train.columns[1:]].to_numpy().reshape((-1, 1, 28, 28))/255\n",
    "test_label, test_image = test[test.columns[0]].to_numpy(), test[test.columns[1:]].to_numpy().reshape((-1, 1, 28, 28))/255\n",
    "\n",
    "# One-hotting\n",
    "one_hot = np.zeros((len(train_label), 47))\n",
    "for label in range(train_label.shape[0]):\n",
    "    one_hot[label, train_label[label]] = 1\n",
    "train_label = one_hot\n",
    "\n",
    "one_hot = np.zeros((len(test_label), 47))\n",
    "for label in range(test_label.shape[0]):\n",
    "    one_hot[label, test_label[label]] = 1\n",
    "test_label = one_hot"
   ]
  },
  {
   "cell_type": "markdown",
   "metadata": {},
   "source": [
    "### Creating The Model"
   ]
  },
  {
   "cell_type": "code",
   "execution_count": 16,
   "metadata": {},
   "outputs": [],
   "source": [
    "import framework as fm\n",
    "\n",
    "class Model(fm.Module):\n",
    "    def __init__(self):\n",
    "        super().__init__()\n",
    "        self.conv1 = fm.Conv2d(1, 6, 5, 1, bias = False)\n",
    "        self.relu1 = fm.ReLu()\n",
    "        self.maxpool1 = fm.MaxPool2d(2, 6, 2)\n",
    "\n",
    "        self.conv2 = fm.Conv2d(6, 16, 5, 1, bias = False)\n",
    "        self.maxpool2 = fm.MaxPool2d(2, 16, 2)\n",
    "        self.bn1 = fm.BatchNorm(1)\n",
    "        self.lin1 = fm.Linear(256, 84, bias=False)\n",
    "        self.bn2 = fm.BatchNorm(1)\n",
    "        self.drop2 = fm.Dropout(0.2)\n",
    "        self.lin2 = fm.Linear(84, 47, bias=False)\n",
    "\n",
    "\n",
    "    def forward(self, x):\n",
    "        x = self.conv1.forward(x) \n",
    "        x = self.relu1.forward(x) \n",
    "        x = self.maxpool1.forward(x)\n",
    "        x = self.conv2.forward(x)\n",
    "        x = self.maxpool2.forward(x)\n",
    "        x = x.reshape((-1, 256))\n",
    "        x = self.bn1.forward(x)\n",
    "        x = self.lin1.forward(x) \n",
    "        x = self.bn2.forward(x)\n",
    "        x = self.drop2.forward(x)\n",
    "        x = self.lin2.forward(x)\n",
    "        return x\n",
    "\n",
    "model = Model()\n",
    "model.train()\n",
    "loss_fn = fm.CrossEntropy()\n",
    "optim = fm.Adadelta(model.get_parameters())\n"
   ]
  },
  {
   "cell_type": "code",
   "execution_count": 8,
   "metadata": {},
   "outputs": [],
   "source": [
    "import framework as fm\n",
    "\n",
    "class Model(fm.Module):\n",
    "    def __init__(self):\n",
    "        super().__init__()\n",
    "        self.lin1 = fm.Linear(784, 784)\n",
    "        self.lin2 = fm.Linear(784, 1)\n",
    "\n",
    "\n",
    "    def forward(self, x):\n",
    "        x = self.lin1.forward(x)\n",
    "        x = self.lin2.forward(x) \n",
    "        return x\n",
    "\n",
    "model = Model()\n",
    "model.train()\n",
    "loss_fn = fm.CrossEntropy()\n",
    "optim = fm.SGD(model.get_parameters(), lr = 0.01)\n"
   ]
  },
  {
   "cell_type": "markdown",
   "metadata": {},
   "source": [
    "#### Training The Model"
   ]
  },
  {
   "cell_type": "code",
   "execution_count": 20,
   "metadata": {},
   "outputs": [],
   "source": [
    "def train(model, x, y, batch_size, loss_fn, optim):\n",
    "\n",
    "    num_batches = int(len(y)/batch_size)\n",
    "\n",
    "    total_loss = 0\n",
    "    total_correct = 0\n",
    "\n",
    "    for batch in range(num_batches):\n",
    "        batch_start, batch_end = (batch * batch_size, (batch + 1) * batch_size)\n",
    "\n",
    "        inpt = fm.Tensor(x[batch_start:batch_end])\n",
    "        label = fm.Tensor(y[batch_start:batch_end])\n",
    "    \n",
    "        \n",
    "        pred = model.forward(inpt)\n",
    "        pred_nums = np.argmax(pred.data)\n",
    "        label_nums = np.argmax(label.data)\n",
    "\n",
    "        correct = (pred_nums == label_nums).sum()\n",
    "        \n",
    "        loss = loss_fn.forward(pred, label)\n",
    "\n",
    "        total_loss += loss \n",
    "        total_correct += correct\n",
    "\n",
    "        if batch % int(num_batches/10) == 0:\n",
    "            print(f\"loss: {loss} [{(batch+1)*batch_size}/{batch_size*num_batches}]\")   \n",
    "      \n",
    "        loss_fn.backward()\n",
    "        optim.step()\n",
    "\n",
    "    total_loss /= num_batches\n",
    "    total_correct /= num_batches * batch_size\n",
    "\n",
    "    print(\"Avg error: \", total_loss)\n",
    "    print(\"Train Precision: \", total_correct, \"\\n\")  \n",
    "\n",
    "    return total_loss, total_correct\n"
   ]
  },
  {
   "cell_type": "code",
   "execution_count": 18,
   "metadata": {},
   "outputs": [],
   "source": [
    "def test(model, x, y, batch_size):\n",
    "    model.test()\n",
    "    correct = 0\n",
    "    batch_size = 128\n",
    "    num_batches = int(len(y)/batch_size)\n",
    "    for batch in range(num_batches):\n",
    "            batch_start, batch_end = (batch * batch_size, (batch + 1) * batch_size)\n",
    "\n",
    "            inpt = fm.Tensor(x[batch_start:batch_end])\n",
    "            label = fm.Tensor(y[batch_start:batch_end])\n",
    "            \n",
    "            pred = model.forward(inpt)\n",
    "\n",
    "            pred_nums = np.argmax(pred.data, axis=1)\n",
    "            label_nums = np.argmax(label.data, axis=1)\n",
    "\n",
    "            correct += (pred_nums == label_nums).sum()\n",
    "\n",
    "    correct /= batch_size * num_batches\n",
    "\n",
    "    print(\"Test Accuracy:\", correct * 100, \"%\\n\")\n",
    "    return correct"
   ]
  },
  {
   "cell_type": "code",
   "execution_count": null,
   "metadata": {},
   "outputs": [
    {
     "name": "stdout",
     "output_type": "stream",
     "text": [
      "Epoch 1\n",
      "-------------------------------\n",
      "loss: 0.7840276956558228 [128/112768]\n",
      "loss: 0.7920039892196655 [11392/112768]\n",
      "loss: 0.7228454351425171 [22656/112768]\n",
      "loss: 0.8272726535797119 [33920/112768]\n",
      "loss: 0.6812862753868103 [45184/112768]\n",
      "loss: 0.6939797401428223 [56448/112768]\n",
      "loss: 0.991053581237793 [67712/112768]\n",
      "loss: 0.6654564142227173 [78976/112768]\n",
      "loss: 0.8806041479110718 [90240/112768]\n",
      "loss: 0.6677513718605042 [101504/112768]\n",
      "loss: 0.8249670267105103 [112768/112768]\n",
      "Avg error:  0.7999858\n",
      "Train Precision:  7.094211123723042e-05 \n",
      "\n",
      "Test Accuracy: 75.21404109589042 %\n",
      "\n",
      "Epoch 2\n",
      "-------------------------------\n",
      "loss: 0.7438327074050903 [128/112768]\n",
      "loss: 0.7418887615203857 [11392/112768]\n",
      "loss: 0.6894638538360596 [22656/112768]\n",
      "loss: 0.804771900177002 [33920/112768]\n",
      "loss: 0.6363180875778198 [45184/112768]\n",
      "loss: 0.6545538306236267 [56448/112768]\n",
      "loss: 0.9476646184921265 [67712/112768]\n",
      "loss: 0.6172711849212646 [78976/112768]\n",
      "loss: 0.8505562543869019 [90240/112768]\n",
      "loss: 0.6499245166778564 [101504/112768]\n",
      "loss: 0.8029125332832336 [112768/112768]\n",
      "Avg error:  0.7648555\n",
      "Train Precision:  7.980987514188422e-05 \n",
      "\n",
      "Epoch 3\n",
      "-------------------------------\n",
      "loss: 0.7162704467773438 [128/112768]\n",
      "loss: 0.7058638334274292 [11392/112768]\n",
      "loss: 0.6591472625732422 [22656/112768]\n",
      "loss: 0.7908888459205627 [33920/112768]\n",
      "loss: 0.6069681644439697 [45184/112768]\n",
      "loss: 0.626380443572998 [56448/112768]\n",
      "loss: 0.9065770506858826 [67712/112768]\n",
      "loss: 0.5880669355392456 [78976/112768]\n",
      "loss: 0.8327510952949524 [90240/112768]\n",
      "loss: 0.6444264650344849 [101504/112768]\n",
      "loss: 0.7894041538238525 [112768/112768]\n",
      "Avg error:  0.7403031\n",
      "Train Precision:  6.207434733257662e-05 \n",
      "\n",
      "Test Accuracy: 76.171875 %\n",
      "\n",
      "Epoch 4\n",
      "-------------------------------\n",
      "loss: 0.6934165954589844 [128/112768]\n",
      "loss: 0.6789735555648804 [11392/112768]\n",
      "loss: 0.6349353790283203 [22656/112768]\n",
      "loss: 0.7777506709098816 [33920/112768]\n",
      "loss: 0.5847679376602173 [45184/112768]\n",
      "loss: 0.6070112586021423 [56448/112768]\n",
      "loss: 0.872496485710144 [67712/112768]\n",
      "loss: 0.5656428933143616 [78976/112768]\n",
      "loss: 0.8210433721542358 [90240/112768]\n",
      "loss: 0.6427413821220398 [101504/112768]\n",
      "loss: 0.7743703126907349 [112768/112768]\n",
      "Avg error:  0.72138333\n",
      "Train Precision:  6.207434733257662e-05 \n",
      "\n",
      "Epoch 5\n",
      "-------------------------------\n",
      "loss: 0.6750953197479248 [128/112768]\n",
      "loss: 0.6623545289039612 [11392/112768]\n",
      "loss: 0.6177365183830261 [22656/112768]\n",
      "loss: 0.7633762359619141 [33920/112768]\n",
      "loss: 0.5665731430053711 [45184/112768]\n",
      "loss: 0.5928652882575989 [56448/112768]\n",
      "loss: 0.8447903394699097 [67712/112768]\n",
      "loss: 0.5445318222045898 [78976/112768]\n",
      "loss: 0.8068166971206665 [90240/112768]\n",
      "loss: 0.6502971649169922 [101504/112768]\n",
      "loss: 0.7539709806442261 [112768/112768]\n",
      "Avg error:  0.7058579\n",
      "Train Precision:  5.3206583427922814e-05 \n",
      "\n",
      "Test Accuracy: 76.46083047945206 %\n",
      "\n",
      "Epoch 6\n",
      "-------------------------------\n",
      "loss: 0.6622511148452759 [128/112768]\n",
      "loss: 0.6477936506271362 [11392/112768]\n",
      "loss: 0.6024006009101868 [22656/112768]\n",
      "loss: 0.7501975297927856 [33920/112768]\n",
      "loss: 0.5587723255157471 [45184/112768]\n",
      "loss: 0.5818334221839905 [56448/112768]\n",
      "loss: 0.8241149187088013 [67712/112768]\n",
      "loss: 0.5240484476089478 [78976/112768]\n",
      "loss: 0.7932800054550171 [90240/112768]\n",
      "loss: 0.6595143675804138 [101504/112768]\n",
      "loss: 0.7273979187011719 [112768/112768]\n",
      "Avg error:  0.6931306\n",
      "Train Precision:  4.433881952326901e-05 \n",
      "\n",
      "Epoch 7\n",
      "-------------------------------\n",
      "loss: 0.6565679907798767 [128/112768]\n",
      "loss: 0.6374714374542236 [11392/112768]\n",
      "loss: 0.5872683525085449 [22656/112768]\n",
      "loss: 0.744132399559021 [33920/112768]\n",
      "loss: 0.5547159910202026 [45184/112768]\n",
      "loss: 0.5776621103286743 [56448/112768]\n",
      "loss: 0.8039124608039856 [67712/112768]\n",
      "loss: 0.508137583732605 [78976/112768]\n",
      "loss: 0.7724847197532654 [90240/112768]\n",
      "loss: 0.6674660444259644 [101504/112768]\n",
      "loss: 0.7066726088523865 [112768/112768]\n",
      "Avg error:  0.6832866\n",
      "Train Precision:  4.433881952326901e-05 \n",
      "\n",
      "Test Accuracy: 76.6427654109589 %\n",
      "\n",
      "Epoch 8\n",
      "-------------------------------\n",
      "loss: 0.6438223123550415 [128/112768]\n",
      "loss: 0.6329522132873535 [11392/112768]\n",
      "loss: 0.5684927105903625 [22656/112768]\n",
      "loss: 0.7383129596710205 [33920/112768]\n",
      "loss: 0.5546674728393555 [45184/112768]\n",
      "loss: 0.576296865940094 [56448/112768]\n",
      "loss: 0.7856978178024292 [67712/112768]\n",
      "loss: 0.4993464946746826 [78976/112768]\n",
      "loss: 0.7522661685943604 [90240/112768]\n",
      "loss: 0.6754806041717529 [101504/112768]\n",
      "loss: 0.6885330677032471 [112768/112768]\n",
      "Avg error:  0.67585754\n",
      "Train Precision:  3.547105561861521e-05 \n",
      "\n",
      "Epoch 9\n",
      "-------------------------------\n",
      "loss: 0.6342577934265137 [128/112768]\n",
      "loss: 0.6268807649612427 [11392/112768]\n",
      "loss: 0.552980899810791 [22656/112768]\n",
      "loss: 0.7306380867958069 [33920/112768]\n",
      "loss: 0.5604501962661743 [45184/112768]\n",
      "loss: 0.5744661688804626 [56448/112768]\n",
      "loss: 0.7703433036804199 [67712/112768]\n",
      "loss: 0.4931935667991638 [78976/112768]\n",
      "loss: 0.7355954647064209 [90240/112768]\n",
      "loss: 0.6806954741477966 [101504/112768]\n",
      "loss: 0.6735708117485046 [112768/112768]\n",
      "Avg error:  0.669957\n",
      "Train Precision:  3.547105561861521e-05 \n",
      "\n",
      "Test Accuracy: 76.77119006849315 %\n",
      "\n",
      "Epoch 10\n",
      "-------------------------------\n",
      "loss: 0.6256207823753357 [128/112768]\n"
     ]
    },
    {
     "name": "stderr",
     "output_type": "stream",
     "text": [
      "/home/eric/Documents/AI_FRAMEWORK/NN/PY/framework.py:362: RuntimeWarning: divide by zero encountered in log\n",
      "  loss = -(np.log(softmax) * y.data).sum(1).mean()\n",
      "/home/eric/Documents/AI_FRAMEWORK/NN/PY/framework.py:362: RuntimeWarning: invalid value encountered in multiply\n",
      "  loss = -(np.log(softmax) * y.data).sum(1).mean()\n"
     ]
    },
    {
     "name": "stdout",
     "output_type": "stream",
     "text": [
      "loss: 0.6205281019210815 [11392/112768]\n",
      "loss: 0.5389555096626282 [22656/112768]\n",
      "loss: 0.7218582630157471 [33920/112768]\n",
      "loss: 0.5644965171813965 [45184/112768]\n",
      "loss: 0.5726010799407959 [56448/112768]\n",
      "loss: 0.7573590874671936 [67712/112768]\n",
      "loss: 0.48900583386421204 [78976/112768]\n",
      "loss: 0.7199788093566895 [90240/112768]\n",
      "loss: 0.6843162775039673 [101504/112768]\n",
      "loss: 0.664499044418335 [112768/112768]\n",
      "Avg error:  nan\n",
      "Train Precision:  3.547105561861521e-05 \n",
      "\n",
      "Epoch 11\n",
      "-------------------------------\n",
      "loss: 0.616999626159668 [128/112768]\n",
      "loss: 0.6182618141174316 [11392/112768]\n",
      "loss: 0.5298615097999573 [22656/112768]\n",
      "loss: 0.7120319604873657 [33920/112768]\n",
      "loss: 0.5665167570114136 [45184/112768]\n",
      "loss: 0.5703480839729309 [56448/112768]\n",
      "loss: 0.751848578453064 [67712/112768]\n",
      "loss: 0.4825475513935089 [78976/112768]\n",
      "loss: 0.7085685729980469 [90240/112768]\n",
      "loss: 0.6885590553283691 [101504/112768]\n",
      "loss: 0.6571653485298157 [112768/112768]\n",
      "Avg error:  nan\n",
      "Train Precision:  4.433881952326901e-05 \n",
      "\n",
      "Test Accuracy: 76.93707191780823 %\n",
      "\n",
      "Epoch 12\n",
      "-------------------------------\n",
      "loss: 0.6096327304840088 [128/112768]\n",
      "loss: 0.615363359451294 [11392/112768]\n",
      "loss: 0.5267177224159241 [22656/112768]\n",
      "loss: 0.6994457244873047 [33920/112768]\n",
      "loss: 0.5642073154449463 [45184/112768]\n",
      "loss: 0.5678813457489014 [56448/112768]\n"
     ]
    }
   ],
   "source": [
    "import matplotlib.pyplot as plt\n",
    "\n",
    "losses = []\n",
    "train_precision = []\n",
    "\n",
    "test_precision = []\n",
    "\n",
    "epochs = 50\n",
    "\n",
    "for epoch in range(epochs):\n",
    "    print(f\"Epoch {epoch + 1}\\n-------------------------------\")\n",
    "    model.train()\n",
    "\n",
    "    loss, precision = train(model, train_image, train_label, 128, loss_fn, optim)\n",
    "    \n",
    "    losses.append(loss)\n",
    "    train_precision.append(precision)\n",
    "\n",
    "    if epoch % 2 == 0:\n",
    "        model.test()\n",
    "        precision = test(model, test_image, test_label, 128)\n",
    "\n",
    "        test_precision.append(precision)\n"
   ]
  },
  {
   "cell_type": "code",
   "execution_count": 14,
   "metadata": {},
   "outputs": [
    {
     "data": {
      "image/png": "[encoded data removed]",
      "text/plain": [
       "<Figure size 640x480 with 1 Axes>"
      ]
     },
     "metadata": {},
     "output_type": "display_data"
    }
   ],
   "source": [
    "plt.plot(np.arange(0, len(test_precision)), test_precision, \"g*--\")\n",
    "\n",
    "plt.show()"
   ]
  },
  {
   "cell_type": "markdown",
   "metadata": {},
   "source": [
    "### Saving model"
   ]
  },
  {
   "cell_type": "code",
   "execution_count": 9,
   "metadata": {},
   "outputs": [
    {
     "name": "stdout",
     "output_type": "stream",
     "text": [
      "Object saved successfully.\n"
     ]
    }
   ],
   "source": [
    "model.save(\"99_12precision\")"
   ]
  },
  {
   "cell_type": "markdown",
   "metadata": {},
   "source": [
    "### Load Model"
   ]
  },
  {
   "cell_type": "code",
   "execution_count": null,
   "metadata": {},
   "outputs": [
    {
     "name": "stdout",
     "output_type": "stream",
     "text": [
      "Object loaded successfully.\n"
     ]
    }
   ],
   "source": [
    "import pickle\n",
    "import framework as fm \n",
    "import numpy as np \n",
    "import pandas as np\n",
    "\n",
    "with open('97precision.pkl', 'rb') as file:\n",
    "    model = pickle.load(file)\n",
    "\n",
    "print(\"Object loaded successfully.\")"
   ]
  },
  {
   "cell_type": "markdown",
   "metadata": {},
   "source": [
    "#### Test Accuracy"
   ]
  },
  {
   "cell_type": "code",
   "execution_count": 15,
   "metadata": {},
   "outputs": [
    {
     "name": "stdout",
     "output_type": "stream",
     "text": [
      "Accuracy: 99.24712873931624 %\n"
     ]
    }
   ],
   "source": [
    "# Testing\n",
    "model.test()\n",
    "correct = 0\n",
    "batch_size = 128\n",
    "num_batches = int(len(train_label)/batch_size)\n",
    "for batch in range(num_batches):\n",
    "        batch_start, batch_end = (batch * batch_size, (batch + 1) * batch_size)\n",
    "\n",
    "        inpt = fm.Tensor(test_image[batch_start:batch_end])\n",
    "        label = fm.Tensor(test_label[batch_start:batch_end])\n",
    "        \n",
    "        pred = model.forward(inpt)\n",
    "\n",
    "        pred_nums = np.argmax(pred.data, axis=1)\n",
    "        label_nums = np.argmax(label.data, axis=1)\n",
    "\n",
    "        correct += (pred_nums == label_nums).sum()\n",
    "\n",
    "print(\"Accuracy:\", correct / (batch_size * num_batches) * 100, \"%\")"
   ]
  },
  {
   "cell_type": "markdown",
   "metadata": {},
   "source": [
    "#### Creation of API"
   ]
  },
  {
   "cell_type": "code",
   "execution_count": null,
   "metadata": {},
   "outputs": [
    {
     "name": "stderr",
     "output_type": "stream",
     "text": [
      "INFO:     Started server process [2663]\n",
      "INFO:     Waiting for application startup.\n",
      "INFO:     Application startup complete.\n",
      "INFO:     Uvicorn running on http://127.0.0.1:3838 (Press CTRL+C to quit)\n"
     ]
    },
    {
     "name": "stdout",
     "output_type": "stream",
     "text": [
      "INFO:     127.0.0.1:48198 - \"POST /predict HTTP/1.1\" 500 Internal Server Error\n"
     ]
    },
    {
     "name": "stderr",
     "output_type": "stream",
     "text": [
      "ERROR:    Exception in ASGI application\n",
      "Traceback (most recent call last):\n",
      "  File \"/home/eric/miniforge3/lib/python3.12/site-packages/uvicorn/protocols/http/h11_impl.py\", line 403, in run_asgi\n",
      "    result = await app(  # type: ignore[func-returns-value]\n",
      "             ^^^^^^^^^^^^^^^^^^^^^^^^^^^^^^^^^^^^^^^^^^^^^^\n",
      "  File \"/home/eric/miniforge3/lib/python3.12/site-packages/uvicorn/middleware/proxy_headers.py\", line 60, in __call__\n",
      "    return await self.app(scope, receive, send)\n",
      "           ^^^^^^^^^^^^^^^^^^^^^^^^^^^^^^^^^^^^\n",
      "  File \"/home/eric/miniforge3/lib/python3.12/site-packages/fastapi/applications.py\", line 1054, in __call__\n",
      "    await super().__call__(scope, receive, send)\n",
      "  File \"/home/eric/miniforge3/lib/python3.12/site-packages/starlette/applications.py\", line 112, in __call__\n",
      "    await self.middleware_stack(scope, receive, send)\n",
      "  File \"/home/eric/miniforge3/lib/python3.12/site-packages/starlette/middleware/errors.py\", line 187, in __call__\n",
      "    raise exc\n",
      "  File \"/home/eric/miniforge3/lib/python3.12/site-packages/starlette/middleware/errors.py\", line 165, in __call__\n",
      "    await self.app(scope, receive, _send)\n",
      "  File \"/home/eric/miniforge3/lib/python3.12/site-packages/starlette/middleware/cors.py\", line 93, in __call__\n",
      "    await self.simple_response(scope, receive, send, request_headers=headers)\n",
      "  File \"/home/eric/miniforge3/lib/python3.12/site-packages/starlette/middleware/cors.py\", line 144, in simple_response\n",
      "    await self.app(scope, receive, send)\n",
      "  File \"/home/eric/miniforge3/lib/python3.12/site-packages/starlette/middleware/exceptions.py\", line 62, in __call__\n",
      "    await wrap_app_handling_exceptions(self.app, conn)(scope, receive, send)\n",
      "  File \"/home/eric/miniforge3/lib/python3.12/site-packages/starlette/_exception_handler.py\", line 53, in wrapped_app\n",
      "    raise exc\n",
      "  File \"/home/eric/miniforge3/lib/python3.12/site-packages/starlette/_exception_handler.py\", line 42, in wrapped_app\n",
      "    await app(scope, receive, sender)\n",
      "  File \"/home/eric/miniforge3/lib/python3.12/site-packages/starlette/routing.py\", line 714, in __call__\n",
      "    await self.middleware_stack(scope, receive, send)\n",
      "  File \"/home/eric/miniforge3/lib/python3.12/site-packages/starlette/routing.py\", line 734, in app\n",
      "    await route.handle(scope, receive, send)\n",
      "  File \"/home/eric/miniforge3/lib/python3.12/site-packages/starlette/routing.py\", line 288, in handle\n",
      "    await self.app(scope, receive, send)\n",
      "  File \"/home/eric/miniforge3/lib/python3.12/site-packages/starlette/routing.py\", line 76, in app\n",
      "    await wrap_app_handling_exceptions(app, request)(scope, receive, send)\n",
      "  File \"/home/eric/miniforge3/lib/python3.12/site-packages/starlette/_exception_handler.py\", line 53, in wrapped_app\n",
      "    raise exc\n",
      "  File \"/home/eric/miniforge3/lib/python3.12/site-packages/starlette/_exception_handler.py\", line 42, in wrapped_app\n",
      "    await app(scope, receive, sender)\n",
      "  File \"/home/eric/miniforge3/lib/python3.12/site-packages/starlette/routing.py\", line 73, in app\n",
      "    response = await f(request)\n",
      "               ^^^^^^^^^^^^^^^^\n",
      "  File \"/home/eric/miniforge3/lib/python3.12/site-packages/fastapi/routing.py\", line 301, in app\n",
      "    raw_response = await run_endpoint_function(\n",
      "                   ^^^^^^^^^^^^^^^^^^^^^^^^^^^^\n",
      "  File \"/home/eric/miniforge3/lib/python3.12/site-packages/fastapi/routing.py\", line 212, in run_endpoint_function\n",
      "    return await dependant.call(**values)\n",
      "           ^^^^^^^^^^^^^^^^^^^^^^^^^^^^^^\n",
      "  File \"/tmp/ipykernel_2663/1124103067.py\", line 21, in predict\n",
      "    num = int(np.argmax(pred.data, axis=1))\n",
      "          ^^^^^^^^^^^^^^^^^^^^^^^^^^^^^^^^^\n",
      "TypeError: only length-1 arrays can be converted to Python scalars\n"
     ]
    }
   ],
   "source": [
    "import uvicorn\n",
    "from fastapi import Request, FastAPI\n",
    "from fastapi.middleware.cors import CORSMiddleware\n",
    "import nest_asyncio\n",
    "\n",
    "app = FastAPI()\n",
    "\n",
    "app.add_middleware(\n",
    "    CORSMiddleware,\n",
    "    allow_origins=[\"*\"],\n",
    "    allow_credentials=True,\n",
    "    allow_methods=[\"*\"],\n",
    "    allow_headers=[\"*\"],\n",
    ")\n",
    "\n",
    "@app.post(\"/predict\")\n",
    "async def predict(request: Request):\n",
    "    res = await request.json()\n",
    "    picture = fm.Tensor(np.array(res).reshape((1, 1, 28, 28)))\n",
    "    pred = model.forward(picture)\n",
    "    num = int(np.argmax(pred.data, axis=1))\n",
    "\n",
    "    return num\n",
    "\n",
    "if __name__ == \"__main__\":\n",
    "    \n",
    "    nest_asyncio.apply()  # Allow asyncio.run to work in a running loop\n",
    "    uvicorn.run(app, host=\"127.0.0.1\", port=3838)"
   ]
  },
  {
   "cell_type": "code",
   "execution_count": 27,
   "metadata": {},
   "outputs": [
    {
     "name": "stdout",
     "output_type": "stream",
     "text": [
      "Data:  [[0.5488135  0.71518934 0.60276335 0.5448832  0.4236548  0.6458941\n",
      "  0.4375872  0.891773   0.96366274 0.3834415 ]]\n",
      "[[0. 0. 0. 1. 0. 0. 0. 1. 0. 1.]]\n",
      "Res:  [[0.        0.        0.        0.5448832 0.        0.        0.\n",
      "  0.891773  0.        0.3834415]]\n",
      "Data Loss:  [[0. 0. 0. 1. 0. 0. 0. 1. 0. 1.]]\n"
     ]
    }
   ],
   "source": [
    "import numpy as np\n",
    "import framework as fm\n",
    "\n",
    "np.random.seed(0)\n",
    "data = fm.Tensor(np.random.random((1, 10)))\n",
    "drop = fm.Dropout(0.2)\n",
    "drop.training = True\n",
    "\n",
    "res = drop.forward(data)\n",
    "\n",
    "loss = fm.Tensor(np.ones((data.data.shape)))\n",
    "\n",
    "print(\"Data: \", data)\n",
    "\n",
    "print(drop.mask)\n",
    "\n",
    "print(\"Res: \", res)\n",
    "\n",
    "res.backward(loss)\n",
    "\n",
    "print(\"Data Loss: \", data.gradient)"
   ]
  },
  {
   "cell_type": "code",
   "execution_count": 8,
   "metadata": {},
   "outputs": [],
   "source": [
    "import framework as fm\n",
    "\n",
    "class Model(fm.Module):\n",
    "    def __init__(self):\n",
    "        super().__init__()\n",
    "        self.lin1 = fm.Linear(4, 1, bias=False)\n",
    "\n",
    "\n",
    "    def forward(self, x):\n",
    "        x = self.lin1.forward(x) \n",
    "        return x\n",
    "\n",
    "model = Model()\n",
    "model.train()\n",
    "loss_fn = fm.CrossEntropy()\n",
    "optim = fm.SGD(model.get_parameters(), lr=0.1)"
   ]
  },
  {
   "cell_type": "code",
   "execution_count": 9,
   "metadata": {},
   "outputs": [
    {
     "name": "stdout",
     "output_type": "stream",
     "text": [
      "[[-2.2692213]] -0.0\n",
      "[[-2.6692214]] -0.0\n",
      "[[-3.0692215]] -0.0\n",
      "[[-3.4692214]] -0.0\n",
      "[[-3.8692214]] -0.0\n"
     ]
    }
   ],
   "source": [
    "import numpy as np\n",
    "inpt = fm.Tensor(np.ones((1,4)))\n",
    "\n",
    "for i in range(5):\n",
    "    output = model.forward(inpt)\n",
    "    loss = loss_fn.forward(output, fm.Tensor(np.zeros((1,1))))\n",
    "    print(output, loss)\n",
    "    loss_fn.backward()\n",
    "    optim.step()\n",
    "\n",
    "    "
   ]
  },
  {
   "cell_type": "code",
   "execution_count": null,
   "metadata": {},
   "outputs": [],
   "source": []
  }
 ],
 "metadata": {
  "kernelspec": {
   "display_name": "Python 3 (ipykernel)",
   "language": "python",
   "name": "python3"
  },
  "language_info": {
   "codemirror_mode": {
    "name": "ipython",
    "version": 3
   },
   "file_extension": ".py",
   "mimetype": "text/x-python",
   "name": "python",
   "nbconvert_exporter": "python",
   "pygments_lexer": "ipython3",
   "version": "3.12.9"
  }
 },
 "nbformat": 4,
 "nbformat_minor": 4
}
