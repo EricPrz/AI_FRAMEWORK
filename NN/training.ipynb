{
 "cells": [
  {
   "cell_type": "markdown",
   "metadata": {},
   "source": [
    "### Reading MNIST"
   ]
  },
  {
   "cell_type": "code",
   "execution_count": 1,
   "metadata": {},
   "outputs": [],
   "source": [
    "import pandas as pd\n",
    "import numpy as np\n",
    "\n",
    "\n",
    "train = pd.read_csv(\"./data/mnist_train.csv\")\n",
    "test = pd.read_csv(\"./data/mnist_test.csv\")\n",
    "\n",
    "# Reestructuring\n",
    "train_label, train_image = train[\"label\"].to_numpy(), train[[x for x in train.columns if x != \"label\"]].to_numpy().reshape((-1, 1, 28, 28))/255\n",
    "test_label, test_image = train[\"label\"].to_numpy(), train[[x for x in train.columns if x != \"label\"]].to_numpy().reshape((-1, 1, 28, 28))/255\n",
    "\n",
    "# One-hotting\n",
    "one_hot = np.zeros((len(train_label), 10))\n",
    "for label in range(train_label.shape[0]):\n",
    "    one_hot[label, train_label[label]] = 1\n",
    "train_label = one_hot\n",
    "\n",
    "one_hot = np.zeros((len(test_label), 10))\n",
    "for label in range(test_label.shape[0]):\n",
    "    one_hot[label, test_label[label]] = 1\n",
    "test_label = one_hot"
   ]
  },
  {
   "cell_type": "markdown",
   "metadata": {},
   "source": [
    "### Creating The Model"
   ]
  },
  {
   "cell_type": "code",
   "execution_count": 15,
   "metadata": {},
   "outputs": [],
   "source": [
    "import framework as fm\n",
    "\n",
    "class Model(fm.Module):\n",
    "    def __init__(self):\n",
    "        super().__init__()\n",
    "        self.conv1 = fm.Conv2d(1, 6, 5, 1, bias = False)\n",
    "        self.relu1 = fm.ReLu()\n",
    "        self.maxpool1 = fm.MaxPool2d(2, 6, 2)\n",
    "        self.conv2 = fm.Conv2d(6, 16, 5, 1, bias = False)\n",
    "        self.maxpool2 = fm.MaxPool2d(2, 16, 2)\n",
    "        self.lin1 = fm.Linear(256, 84, bias=False)\n",
    "        self.lin2 = fm.Linear(84, 10, bias=False)\n",
    "\n",
    "\n",
    "    def forward(self, x):\n",
    "        x = self.conv1.forward(x)\n",
    "        x = self.relu1.forward(x)\n",
    "        x = self.maxpool1.forward(x)\n",
    "        x = self.conv2.forward(x) \n",
    "        x = self.maxpool2.forward(x)\n",
    "        x = x.reshape((-1, 256))\n",
    "        x = self.lin1.forward(x) \n",
    "        x = self.lin2.forward(x)\n",
    "        return x\n",
    "\n",
    "model = Model()\n",
    "loss_fn = fm.CrossEntropy()\n",
    "optim = fm.Adam(model.get_parameters())\n"
   ]
  },
  {
   "cell_type": "markdown",
   "metadata": {},
   "source": [
    "#### Training The Model"
   ]
  },
  {
   "cell_type": "code",
   "execution_count": 29,
   "metadata": {},
   "outputs": [
    {
     "name": "stdout",
     "output_type": "stream",
     "text": [
      "Epoch 1\n",
      "-------------------------------\n",
      "loss: 0.1290999799966812 [128/59904]\n",
      "loss: 0.07127195596694946 [6016/59904]\n",
      "loss: 0.1256811022758484 [11904/59904]\n",
      "loss: 0.19716709852218628 [17792/59904]\n",
      "loss: 0.11873164772987366 [23680/59904]\n",
      "loss: 0.11327928304672241 [29568/59904]\n",
      "loss: 0.05754578113555908 [35456/59904]\n",
      "loss: 0.2496492862701416 [41344/59904]\n",
      "loss: 0.07103261351585388 [47232/59904]\n",
      "loss: 0.04299616068601608 [53120/59904]\n",
      "loss: 0.022249117493629456 [59008/59904]\n",
      "Avg error:  0.103162274 \n",
      "\n",
      "Epoch 2\n",
      "-------------------------------\n",
      "loss: 0.12254302203655243 [128/59904]\n",
      "loss: 0.0668041855096817 [6016/59904]\n",
      "loss: 0.12529167532920837 [11904/59904]\n",
      "loss: 0.19047479331493378 [17792/59904]\n",
      "loss: 0.11883313208818436 [23680/59904]\n",
      "loss: 0.10632358491420746 [29568/59904]\n",
      "loss: 0.05233484506607056 [35456/59904]\n",
      "loss: 0.2491615265607834 [41344/59904]\n",
      "loss: 0.0681222528219223 [47232/59904]\n",
      "loss: 0.045744795352220535 [53120/59904]\n",
      "loss: 0.021836956962943077 [59008/59904]\n",
      "Avg error:  0.09953582 \n",
      "\n",
      "Epoch 3\n",
      "-------------------------------\n",
      "loss: 0.11220971494913101 [128/59904]\n",
      "loss: 0.06305454671382904 [6016/59904]\n",
      "loss: 0.12471691519021988 [11904/59904]\n",
      "loss: 0.18759524822235107 [17792/59904]\n",
      "loss: 0.11604149639606476 [23680/59904]\n",
      "loss: 0.10144190490245819 [29568/59904]\n",
      "loss: 0.050010669976472855 [35456/59904]\n",
      "loss: 0.24480848014354706 [41344/59904]\n",
      "loss: 0.06049906089901924 [47232/59904]\n",
      "loss: 0.04583136364817619 [53120/59904]\n",
      "loss: 0.02276790514588356 [59008/59904]\n",
      "Avg error:  0.09607567 \n",
      "\n"
     ]
    }
   ],
   "source": [
    "batch_size = 128\n",
    "num_batches = int(len(train_label)/batch_size)\n",
    "epochs = 3\n",
    "\n",
    "\n",
    "for epoch in range(epochs):\n",
    "\n",
    "    print(f\"Epoch {epoch+1}\\n-------------------------------\")\n",
    "\n",
    "    total_loss = 0\n",
    "    correct = 0\n",
    "\n",
    "    for batch in range(num_batches):\n",
    "        batch_start, batch_end = (batch * batch_size, (batch + 1) * batch_size)\n",
    "\n",
    "        inpt = fm.Tensor(train_image[batch_start:batch_end])\n",
    "        label = fm.Tensor(train_label[batch_start:batch_end])\n",
    "        \n",
    "        pred = model.forward(inpt)\n",
    "\n",
    "        pred_nums = np.argmax(pred.data, axis=1)\n",
    "        label_nums = np.argmax(label.data, axis=1)\n",
    "\n",
    "        correct += (pred_nums == label_nums).sum()\n",
    "        \n",
    "        loss = loss_fn.forward(pred, label)\n",
    "\n",
    "        total_loss += loss \n",
    "\n",
    "        if batch % int(num_batches/10) == 0:\n",
    "            print(f\"loss: {loss} [{(batch+1)*batch_size}/{batch_size*num_batches}]\")   \n",
    "            correct = 0\n",
    "      \n",
    "        loss_fn.backward()\n",
    "\n",
    "        optim.step()\n",
    "\n",
    "    print(\"Avg error: \", total_loss / num_batches, \"\\n\")  "
   ]
  },
  {
   "cell_type": "markdown",
   "metadata": {},
   "source": [
    "### Saving model"
   ]
  },
  {
   "cell_type": "code",
   "execution_count": 31,
   "metadata": {},
   "outputs": [
    {
     "name": "stdout",
     "output_type": "stream",
     "text": [
      "Object saved successfully.\n"
     ]
    }
   ],
   "source": [
    "model.save(\"97precision\")"
   ]
  },
  {
   "cell_type": "markdown",
   "metadata": {},
   "source": [
    "### Load Model"
   ]
  },
  {
   "cell_type": "code",
   "execution_count": 3,
   "metadata": {},
   "outputs": [
    {
     "name": "stdout",
     "output_type": "stream",
     "text": [
      "Object loaded successfully.\n"
     ]
    }
   ],
   "source": [
    "import pickle\n",
    "import framework as fm \n",
    "import numpy as np \n",
    "import pandas as np\n",
    "\n",
    "with open('prueba2.pkl', 'rb') as file:\n",
    "    model = pickle.load(file)\n",
    "\n",
    "print(\"Object loaded successfully.\")"
   ]
  },
  {
   "cell_type": "markdown",
   "metadata": {},
   "source": [
    "#### Test Accuracy"
   ]
  },
  {
   "cell_type": "code",
   "execution_count": 30,
   "metadata": {},
   "outputs": [
    {
     "name": "stdout",
     "output_type": "stream",
     "text": [
      "Accuracy: 97.00020032051282 %\n"
     ]
    }
   ],
   "source": [
    "# Testing\n",
    "correct = 0\n",
    "batch_size = 128\n",
    "num_batches = int(len(train_label)/batch_size)\n",
    "for batch in range(num_batches):\n",
    "        batch_start, batch_end = (batch * batch_size, (batch + 1) * batch_size)\n",
    "\n",
    "        inpt = fm.Tensor(test_image[batch_start:batch_end])\n",
    "        label = fm.Tensor(test_label[batch_start:batch_end])\n",
    "        \n",
    "        pred = model.forward(inpt)\n",
    "\n",
    "        pred_nums = np.argmax(pred.data, axis=1)\n",
    "        label_nums = np.argmax(label.data, axis=1)\n",
    "\n",
    "        correct += (pred_nums == label_nums).sum()\n",
    "\n",
    "print(\"Accuracy:\", correct / (batch_size * num_batches) * 100, \"%\")"
   ]
  },
  {
   "cell_type": "markdown",
   "metadata": {},
   "source": [
    "#### Creation of API"
   ]
  },
  {
   "cell_type": "code",
   "execution_count": null,
   "metadata": {},
   "outputs": [
    {
     "name": "stderr",
     "output_type": "stream",
     "text": [
      "INFO:     Started server process [5465]\n",
      "INFO:     Waiting for application startup.\n",
      "INFO:     Application startup complete.\n",
      "INFO:     Uvicorn running on http://127.0.0.1:3838 (Press CTRL+C to quit)\n"
     ]
    },
    {
     "name": "stdout",
     "output_type": "stream",
     "text": [
      "INFO:     127.0.0.1:40028 - \"OPTIONS /predict HTTP/1.1\" 200 OK\n",
      "INFO:     127.0.0.1:40028 - \"POST /predict HTTP/1.1\" 200 OK\n",
      "INFO:     127.0.0.1:40028 - \"POST /predict HTTP/1.1\" 200 OK\n",
      "INFO:     127.0.0.1:40028 - \"POST /predict HTTP/1.1\" 200 OK\n",
      "INFO:     127.0.0.1:40028 - \"POST /predict HTTP/1.1\" 200 OK\n",
      "INFO:     127.0.0.1:40028 - \"POST /predict HTTP/1.1\" 200 OK\n",
      "INFO:     127.0.0.1:40028 - \"POST /predict HTTP/1.1\" 200 OK\n",
      "INFO:     127.0.0.1:40028 - \"POST /predict HTTP/1.1\" 200 OK\n",
      "INFO:     127.0.0.1:40028 - \"POST /predict HTTP/1.1\" 200 OK\n",
      "INFO:     127.0.0.1:40028 - \"POST /predict HTTP/1.1\" 200 OK\n",
      "INFO:     127.0.0.1:40028 - \"POST /predict HTTP/1.1\" 200 OK\n",
      "INFO:     127.0.0.1:40028 - \"POST /predict HTTP/1.1\" 200 OK\n",
      "INFO:     127.0.0.1:40028 - \"POST /predict HTTP/1.1\" 200 OK\n",
      "INFO:     127.0.0.1:40028 - \"POST /predict HTTP/1.1\" 200 OK\n",
      "INFO:     127.0.0.1:40028 - \"POST /predict HTTP/1.1\" 200 OK\n",
      "INFO:     127.0.0.1:40028 - \"POST /predict HTTP/1.1\" 200 OK\n",
      "INFO:     127.0.0.1:40028 - \"POST /predict HTTP/1.1\" 200 OK\n",
      "INFO:     127.0.0.1:40028 - \"POST /predict HTTP/1.1\" 200 OK\n",
      "INFO:     127.0.0.1:60558 - \"POST /predict HTTP/1.1\" 200 OK\n",
      "INFO:     127.0.0.1:60558 - \"POST /predict HTTP/1.1\" 200 OK\n",
      "INFO:     127.0.0.1:60558 - \"POST /predict HTTP/1.1\" 200 OK\n",
      "INFO:     127.0.0.1:60558 - \"POST /predict HTTP/1.1\" 200 OK\n",
      "INFO:     127.0.0.1:60558 - \"POST /predict HTTP/1.1\" 200 OK\n",
      "INFO:     127.0.0.1:60558 - \"POST /predict HTTP/1.1\" 200 OK\n",
      "INFO:     127.0.0.1:60558 - \"POST /predict HTTP/1.1\" 200 OK\n",
      "INFO:     127.0.0.1:60558 - \"POST /predict HTTP/1.1\" 200 OK\n",
      "INFO:     127.0.0.1:60558 - \"POST /predict HTTP/1.1\" 200 OK\n",
      "INFO:     127.0.0.1:60558 - \"POST /predict HTTP/1.1\" 200 OK\n",
      "INFO:     127.0.0.1:60558 - \"POST /predict HTTP/1.1\" 200 OK\n",
      "INFO:     127.0.0.1:60558 - \"POST /predict HTTP/1.1\" 200 OK\n",
      "INFO:     127.0.0.1:60558 - \"POST /predict HTTP/1.1\" 200 OK\n",
      "INFO:     127.0.0.1:60558 - \"POST /predict HTTP/1.1\" 200 OK\n",
      "INFO:     127.0.0.1:60558 - \"POST /predict HTTP/1.1\" 200 OK\n",
      "INFO:     127.0.0.1:60558 - \"POST /predict HTTP/1.1\" 200 OK\n",
      "INFO:     127.0.0.1:60558 - \"POST /predict HTTP/1.1\" 200 OK\n",
      "INFO:     127.0.0.1:60558 - \"POST /predict HTTP/1.1\" 200 OK\n",
      "INFO:     127.0.0.1:60558 - \"POST /predict HTTP/1.1\" 200 OK\n",
      "INFO:     127.0.0.1:60558 - \"POST /predict HTTP/1.1\" 200 OK\n",
      "INFO:     127.0.0.1:60558 - \"POST /predict HTTP/1.1\" 200 OK\n",
      "INFO:     127.0.0.1:37306 - \"POST /predict HTTP/1.1\" 200 OK\n",
      "INFO:     127.0.0.1:53590 - \"POST /predict HTTP/1.1\" 200 OK\n",
      "INFO:     127.0.0.1:53590 - \"POST /predict HTTP/1.1\" 200 OK\n",
      "INFO:     127.0.0.1:49172 - \"POST /predict HTTP/1.1\" 200 OK\n",
      "INFO:     127.0.0.1:49172 - \"POST /predict HTTP/1.1\" 200 OK\n",
      "INFO:     127.0.0.1:56292 - \"POST /predict HTTP/1.1\" 200 OK\n",
      "INFO:     127.0.0.1:56292 - \"POST /predict HTTP/1.1\" 200 OK\n",
      "INFO:     127.0.0.1:56292 - \"POST /predict HTTP/1.1\" 200 OK\n",
      "INFO:     127.0.0.1:56292 - \"POST /predict HTTP/1.1\" 200 OK\n",
      "INFO:     127.0.0.1:35000 - \"POST /predict HTTP/1.1\" 200 OK\n",
      "INFO:     127.0.0.1:35000 - \"POST /predict HTTP/1.1\" 200 OK\n",
      "INFO:     127.0.0.1:35000 - \"POST /predict HTTP/1.1\" 200 OK\n",
      "INFO:     127.0.0.1:35000 - \"POST /predict HTTP/1.1\" 200 OK\n",
      "INFO:     127.0.0.1:35000 - \"POST /predict HTTP/1.1\" 200 OK\n",
      "INFO:     127.0.0.1:35000 - \"POST /predict HTTP/1.1\" 200 OK\n",
      "INFO:     127.0.0.1:35000 - \"POST /predict HTTP/1.1\" 200 OK\n",
      "INFO:     127.0.0.1:35000 - \"POST /predict HTTP/1.1\" 200 OK\n",
      "INFO:     127.0.0.1:35000 - \"POST /predict HTTP/1.1\" 200 OK\n",
      "INFO:     127.0.0.1:35000 - \"POST /predict HTTP/1.1\" 200 OK\n",
      "INFO:     127.0.0.1:35000 - \"POST /predict HTTP/1.1\" 200 OK\n",
      "INFO:     127.0.0.1:49740 - \"POST /predict HTTP/1.1\" 200 OK\n",
      "INFO:     127.0.0.1:49740 - \"POST /predict HTTP/1.1\" 200 OK\n",
      "INFO:     127.0.0.1:49740 - \"POST /predict HTTP/1.1\" 200 OK\n",
      "INFO:     127.0.0.1:49740 - \"POST /predict HTTP/1.1\" 200 OK\n",
      "INFO:     127.0.0.1:49740 - \"POST /predict HTTP/1.1\" 200 OK\n",
      "INFO:     127.0.0.1:49740 - \"POST /predict HTTP/1.1\" 200 OK\n",
      "INFO:     127.0.0.1:49740 - \"POST /predict HTTP/1.1\" 200 OK\n",
      "INFO:     127.0.0.1:49740 - \"POST /predict HTTP/1.1\" 200 OK\n",
      "INFO:     127.0.0.1:49740 - \"POST /predict HTTP/1.1\" 200 OK\n",
      "INFO:     127.0.0.1:49740 - \"POST /predict HTTP/1.1\" 200 OK\n",
      "INFO:     127.0.0.1:49740 - \"POST /predict HTTP/1.1\" 200 OK\n",
      "INFO:     127.0.0.1:49740 - \"POST /predict HTTP/1.1\" 200 OK\n",
      "INFO:     127.0.0.1:49740 - \"POST /predict HTTP/1.1\" 200 OK\n",
      "INFO:     127.0.0.1:49740 - \"POST /predict HTTP/1.1\" 200 OK\n",
      "INFO:     127.0.0.1:49740 - \"POST /predict HTTP/1.1\" 200 OK\n",
      "INFO:     127.0.0.1:49740 - \"POST /predict HTTP/1.1\" 200 OK\n",
      "INFO:     127.0.0.1:49740 - \"POST /predict HTTP/1.1\" 200 OK\n",
      "INFO:     127.0.0.1:49740 - \"POST /predict HTTP/1.1\" 200 OK\n",
      "INFO:     127.0.0.1:49740 - \"POST /predict HTTP/1.1\" 200 OK\n",
      "INFO:     127.0.0.1:49740 - \"POST /predict HTTP/1.1\" 200 OK\n",
      "INFO:     127.0.0.1:49740 - \"POST /predict HTTP/1.1\" 200 OK\n",
      "INFO:     127.0.0.1:49740 - \"POST /predict HTTP/1.1\" 200 OK\n",
      "INFO:     127.0.0.1:49740 - \"POST /predict HTTP/1.1\" 200 OK\n",
      "INFO:     127.0.0.1:49740 - \"POST /predict HTTP/1.1\" 200 OK\n",
      "INFO:     127.0.0.1:49740 - \"POST /predict HTTP/1.1\" 200 OK\n",
      "INFO:     127.0.0.1:49740 - \"POST /predict HTTP/1.1\" 200 OK\n",
      "INFO:     127.0.0.1:49740 - \"POST /predict HTTP/1.1\" 200 OK\n",
      "INFO:     127.0.0.1:58432 - \"POST /predict HTTP/1.1\" 200 OK\n",
      "INFO:     127.0.0.1:58432 - \"POST /predict HTTP/1.1\" 200 OK\n",
      "INFO:     127.0.0.1:58432 - \"POST /predict HTTP/1.1\" 200 OK\n",
      "INFO:     127.0.0.1:42296 - \"POST /predict HTTP/1.1\" 200 OK\n",
      "INFO:     127.0.0.1:42296 - \"POST /predict HTTP/1.1\" 200 OK\n"
     ]
    }
   ],
   "source": [
    "import uvicorn\n",
    "from fastapi import Request, FastAPI\n",
    "from fastapi.middleware.cors import CORSMiddleware\n",
    "import nest_asyncio\n",
    "\n",
    "app = FastAPI()\n",
    "\n",
    "app.add_middleware(\n",
    "    CORSMiddleware,\n",
    "    allow_origins=[\"*\"],\n",
    "    allow_credentials=True,\n",
    "    allow_methods=[\"*\"],\n",
    "    allow_headers=[\"*\"],\n",
    ")\n",
    "\n",
    "@app.post(\"/predict\")\n",
    "async def predict(request: Request):\n",
    "    res = await request.json()\n",
    "    picture = fm.Tensor(np.array(res).reshape((1, 1, 28, 28)))\n",
    "    pred = model.forward(picture)\n",
    "    num = int(np.argmax(pred.data))\n",
    "\n",
    "    return num\n",
    "\n",
    "if __name__ == \"__main__\":\n",
    "    \n",
    "    nest_asyncio.apply()  # Allow asyncio.run to work in a running loop\n",
    "    uvicorn.run(app, host=\"127.0.0.1\", port=3838)"
   ]
  }
 ],
 "metadata": {
  "kernelspec": {
   "display_name": "base",
   "language": "python",
   "name": "python3"
  },
  "language_info": {
   "codemirror_mode": {
    "name": "ipython",
    "version": 3
   },
   "file_extension": ".py",
   "mimetype": "text/x-python",
   "name": "python",
   "nbconvert_exporter": "python",
   "pygments_lexer": "ipython3",
   "version": "3.12.9"
  }
 },
 "nbformat": 4,
 "nbformat_minor": 4
}
