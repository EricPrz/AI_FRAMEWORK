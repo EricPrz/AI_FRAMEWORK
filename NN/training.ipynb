{
 "cells": [
  {
   "cell_type": "markdown",
   "metadata": {},
   "source": [
    "### Reading MNIST"
   ]
  },
  {
   "cell_type": "code",
   "execution_count": 6,
   "metadata": {},
   "outputs": [],
   "source": [
    "import pandas as pd\n",
    "import numpy as np\n",
    "\n",
    "\n",
    "train = pd.read_csv(\"./data/mnist_train.csv\")\n",
    "test = pd.read_csv(\"./data/mnist_test.csv\")\n",
    "\n",
    "# Reestructuring\n",
    "train_label, train_image = train[\"label\"].to_numpy(), train[[x for x in train.columns if x != \"label\"]].to_numpy().reshape((-1, 1, 28, 28))/255\n",
    "test_label, test_image = train[\"label\"].to_numpy(), train[[x for x in train.columns if x != \"label\"]].to_numpy().reshape((-1, 1, 28, 28))/255\n",
    "\n",
    "# One-hotting\n",
    "one_hot = np.zeros((len(train_label), 10))\n",
    "for label in range(train_label.shape[0]):\n",
    "    one_hot[label, train_label[label]] = 1\n",
    "train_label = one_hot\n",
    "\n",
    "one_hot = np.zeros((len(test_label), 10))\n",
    "for label in range(test_label.shape[0]):\n",
    "    one_hot[label, test_label[label]] = 1\n",
    "test_label = one_hot"
   ]
  },
  {
   "cell_type": "markdown",
   "metadata": {},
   "source": [
    "### Creating The Model"
   ]
  },
  {
   "cell_type": "code",
   "execution_count": 11,
   "metadata": {},
   "outputs": [],
   "source": [
    "import framework as fm\n",
    "\n",
    "class Model(fm.Module):\n",
    "    def __init__(self):\n",
    "        super().__init__()\n",
    "        self.conv1 = fm.Conv2d(1, 6, 5, 1, bias = False)\n",
    "        self.relu1 = fm.ReLu()\n",
    "        self.maxpool1 = fm.MaxPool2d(2, 6, 2)\n",
    "        self.conv2 = fm.Conv2d(6, 16, 5, 1, bias = False)\n",
    "        self.maxpool2 = fm.MaxPool2d(2, 16, 2)\n",
    "        self.lin1 = fm.Linear(256, 84, bias=False)\n",
    "        self.lin2 = fm.Linear(84, 10, bias=False)\n",
    "\n",
    "\n",
    "    def forward(self, x):\n",
    "        x = self.conv1.forward(x)\n",
    "        x = self.relu1.forward(x)\n",
    "        x = self.maxpool1.forward(x)\n",
    "        x = self.conv2.forward(x) \n",
    "        x = self.maxpool2.forward(x)\n",
    "        x = x.reshape((-1, 256))\n",
    "        x = self.lin1.forward(x) \n",
    "        x = self.lin2.forward(x)\n",
    "        return x\n",
    "\n",
    "model = Model()\n",
    "loss_fn = fm.CrossEntropy()\n",
    "optim = fm.Adam(model.get_parameters())\n"
   ]
  },
  {
   "cell_type": "markdown",
   "metadata": {},
   "source": [
    "#### Training The Model"
   ]
  },
  {
   "cell_type": "code",
   "execution_count": 17,
   "metadata": {},
   "outputs": [
    {
     "name": "stdout",
     "output_type": "stream",
     "text": [
      "Epoch 1\n",
      "-------------------------------\n",
      "loss: 0.03804292902350426 [128/59904]\n",
      "loss: 0.07643013447523117 [6016/59904]\n",
      "loss: 0.10479727387428284 [11904/59904]\n",
      "loss: 0.07072605937719345 [17792/59904]\n",
      "loss: 0.1021801084280014 [23680/59904]\n",
      "loss: 0.049778807908296585 [29568/59904]\n",
      "loss: 0.033581506460905075 [35456/59904]\n",
      "loss: 0.20574204623699188 [41344/59904]\n",
      "loss: 0.06366195529699326 [47232/59904]\n",
      "loss: 0.032524120062589645 [53120/59904]\n",
      "loss: 0.0029682505410164595 [59008/59904]\n",
      "Avg error:  0.07955115 \n",
      "\n",
      "Epoch 2\n",
      "-------------------------------\n",
      "loss: 0.03812592849135399 [128/59904]\n",
      "loss: 0.07665510475635529 [6016/59904]\n",
      "loss: 0.1155862957239151 [11904/59904]\n",
      "loss: 0.07534121721982956 [17792/59904]\n",
      "loss: 0.1059059351682663 [23680/59904]\n",
      "loss: 0.046549052000045776 [29568/59904]\n",
      "loss: 0.029418068006634712 [35456/59904]\n",
      "loss: 0.20743361115455627 [41344/59904]\n",
      "loss: 0.06697190552949905 [47232/59904]\n",
      "loss: 0.032222673296928406 [53120/59904]\n",
      "loss: 0.002702767960727215 [59008/59904]\n",
      "Avg error:  0.07908942 \n",
      "\n",
      "Epoch 3\n",
      "-------------------------------\n",
      "loss: 0.03625762462615967 [128/59904]\n",
      "loss: 0.07336732745170593 [6016/59904]\n",
      "loss: 0.12118150293827057 [11904/59904]\n",
      "loss: 0.07746315002441406 [17792/59904]\n",
      "loss: 0.10844918340444565 [23680/59904]\n",
      "loss: 0.04588235542178154 [29568/59904]\n",
      "loss: 0.026452014222741127 [35456/59904]\n",
      "loss: 0.21189598739147186 [41344/59904]\n",
      "loss: 0.06826481968164444 [47232/59904]\n",
      "loss: 0.03330204635858536 [53120/59904]\n",
      "loss: 0.002662409096956253 [59008/59904]\n",
      "Avg error:  0.07859212 \n",
      "\n",
      "Epoch 4\n",
      "-------------------------------\n",
      "loss: 0.03578661382198334 [128/59904]\n",
      "loss: 0.06971659511327744 [6016/59904]\n",
      "loss: 0.11901403963565826 [11904/59904]\n",
      "loss: 0.08142207562923431 [17792/59904]\n",
      "loss: 0.10952217876911163 [23680/59904]\n",
      "loss: 0.04474340006709099 [29568/59904]\n",
      "loss: 0.025238284841179848 [35456/59904]\n",
      "loss: 0.20809927582740784 [41344/59904]\n",
      "loss: 0.06648556143045425 [47232/59904]\n",
      "loss: 0.03528502583503723 [53120/59904]\n",
      "loss: 0.0029140457045286894 [59008/59904]\n",
      "Avg error:  0.077443145 \n",
      "\n",
      "Epoch 5\n",
      "-------------------------------\n",
      "loss: 0.03654877096414566 [128/59904]\n",
      "loss: 0.06640107184648514 [6016/59904]\n",
      "loss: 0.1282535195350647 [11904/59904]\n",
      "loss: 0.0773961991071701 [17792/59904]\n",
      "loss: 0.11288410425186157 [23680/59904]\n",
      "loss: 0.04126628115773201 [29568/59904]\n",
      "loss: 0.025897081941366196 [35456/59904]\n",
      "loss: 0.2049265205860138 [41344/59904]\n",
      "loss: 0.06497813761234283 [47232/59904]\n",
      "loss: 0.03599001467227936 [53120/59904]\n",
      "loss: 0.003084115218371153 [59008/59904]\n",
      "Avg error:  0.07637909 \n",
      "\n"
     ]
    }
   ],
   "source": [
    "batch_size = 128\n",
    "num_batches = int(len(train_label)/batch_size)\n",
    "epochs = 5\n",
    "\n",
    "\n",
    "for epoch in range(epochs):\n",
    "\n",
    "    print(f\"Epoch {epoch+1}\\n-------------------------------\")\n",
    "\n",
    "    total_loss = 0\n",
    "    correct = 0\n",
    "\n",
    "    for batch in range(num_batches):\n",
    "        batch_start, batch_end = (batch * batch_size, (batch + 1) * batch_size)\n",
    "\n",
    "        inpt = fm.Tensor(train_image[batch_start:batch_end])\n",
    "        label = fm.Tensor(train_label[batch_start:batch_end])\n",
    "        \n",
    "        pred = model.forward(inpt)\n",
    "\n",
    "        pred_nums = np.argmax(pred.data, axis=1)\n",
    "        label_nums = np.argmax(label.data, axis=1)\n",
    "\n",
    "        correct += (pred_nums == label_nums).sum()\n",
    "        \n",
    "        loss = loss_fn.forward(pred, label)\n",
    "\n",
    "        total_loss += loss \n",
    "\n",
    "        if batch % int(num_batches/10) == 0:\n",
    "            print(f\"loss: {loss} [{(batch+1)*batch_size}/{batch_size*num_batches}]\")   \n",
    "            correct = 0\n",
    "      \n",
    "        loss_fn.backward()\n",
    "\n",
    "        optim.step()\n",
    "\n",
    "    print(\"Avg error: \", total_loss / num_batches, \"\\n\")  "
   ]
  },
  {
   "cell_type": "markdown",
   "metadata": {},
   "source": [
    "### Saving model"
   ]
  },
  {
   "cell_type": "code",
   "execution_count": 16,
   "metadata": {},
   "outputs": [
    {
     "name": "stdout",
     "output_type": "stream",
     "text": [
      "Object saved successfully.\n"
     ]
    }
   ],
   "source": [
    "model.save(\"97_71precision\")"
   ]
  },
  {
   "cell_type": "markdown",
   "metadata": {},
   "source": [
    "### Load Model"
   ]
  },
  {
   "cell_type": "code",
   "execution_count": null,
   "metadata": {},
   "outputs": [
    {
     "name": "stdout",
     "output_type": "stream",
     "text": [
      "Object loaded successfully.\n"
     ]
    }
   ],
   "source": [
    "import pickle\n",
    "import framework as fm \n",
    "import numpy as np \n",
    "import pandas as np\n",
    "\n",
    "with open('97precision.pkl', 'rb') as file:\n",
    "    model = pickle.load(file)\n",
    "\n",
    "print(\"Object loaded successfully.\")"
   ]
  },
  {
   "cell_type": "markdown",
   "metadata": {},
   "source": [
    "#### Test Accuracy"
   ]
  },
  {
   "cell_type": "code",
   "execution_count": 18,
   "metadata": {},
   "outputs": [
    {
     "name": "stdout",
     "output_type": "stream",
     "text": [
      "Accuracy: 97.70799946581197 %\n"
     ]
    }
   ],
   "source": [
    "# Testing\n",
    "correct = 0\n",
    "batch_size = 128\n",
    "num_batches = int(len(train_label)/batch_size)\n",
    "for batch in range(num_batches):\n",
    "        batch_start, batch_end = (batch * batch_size, (batch + 1) * batch_size)\n",
    "\n",
    "        inpt = fm.Tensor(test_image[batch_start:batch_end])\n",
    "        label = fm.Tensor(test_label[batch_start:batch_end])\n",
    "        \n",
    "        pred = model.forward(inpt)\n",
    "\n",
    "        pred_nums = np.argmax(pred.data, axis=1)\n",
    "        label_nums = np.argmax(label.data, axis=1)\n",
    "\n",
    "        correct += (pred_nums == label_nums).sum()\n",
    "\n",
    "print(\"Accuracy:\", correct / (batch_size * num_batches) * 100, \"%\")"
   ]
  },
  {
   "cell_type": "markdown",
   "metadata": {},
   "source": [
    "#### Creation of API"
   ]
  },
  {
   "cell_type": "code",
   "execution_count": 19,
   "metadata": {},
   "outputs": [
    {
     "name": "stderr",
     "output_type": "stream",
     "text": [
      "INFO:     Started server process [4886]\n",
      "INFO:     Waiting for application startup.\n",
      "INFO:     Application startup complete.\n",
      "INFO:     Uvicorn running on http://127.0.0.1:3838 (Press CTRL+C to quit)\n"
     ]
    },
    {
     "name": "stdout",
     "output_type": "stream",
     "text": [
      "INFO:     127.0.0.1:38632 - \"OPTIONS /predict HTTP/1.1\" 200 OK\n",
      "INFO:     127.0.0.1:38632 - \"POST /predict HTTP/1.1\" 200 OK\n",
      "INFO:     127.0.0.1:47290 - \"POST /predict HTTP/1.1\" 200 OK\n",
      "INFO:     127.0.0.1:47290 - \"POST /predict HTTP/1.1\" 200 OK\n",
      "INFO:     127.0.0.1:47290 - \"POST /predict HTTP/1.1\" 200 OK\n",
      "INFO:     127.0.0.1:47290 - \"POST /predict HTTP/1.1\" 200 OK\n",
      "INFO:     127.0.0.1:47290 - \"POST /predict HTTP/1.1\" 200 OK\n",
      "INFO:     127.0.0.1:47290 - \"POST /predict HTTP/1.1\" 200 OK\n",
      "INFO:     127.0.0.1:47290 - \"POST /predict HTTP/1.1\" 200 OK\n",
      "INFO:     127.0.0.1:47290 - \"POST /predict HTTP/1.1\" 200 OK\n",
      "INFO:     127.0.0.1:47290 - \"POST /predict HTTP/1.1\" 200 OK\n",
      "INFO:     127.0.0.1:47290 - \"POST /predict HTTP/1.1\" 200 OK\n",
      "INFO:     127.0.0.1:47290 - \"POST /predict HTTP/1.1\" 200 OK\n",
      "INFO:     127.0.0.1:47290 - \"POST /predict HTTP/1.1\" 200 OK\n",
      "INFO:     127.0.0.1:47290 - \"POST /predict HTTP/1.1\" 200 OK\n",
      "INFO:     127.0.0.1:47290 - \"POST /predict HTTP/1.1\" 200 OK\n",
      "INFO:     127.0.0.1:47290 - \"POST /predict HTTP/1.1\" 200 OK\n",
      "INFO:     127.0.0.1:47290 - \"POST /predict HTTP/1.1\" 200 OK\n",
      "INFO:     127.0.0.1:47290 - \"POST /predict HTTP/1.1\" 200 OK\n",
      "INFO:     127.0.0.1:47290 - \"POST /predict HTTP/1.1\" 200 OK\n",
      "INFO:     127.0.0.1:47290 - \"POST /predict HTTP/1.1\" 200 OK\n",
      "INFO:     127.0.0.1:47290 - \"POST /predict HTTP/1.1\" 200 OK\n",
      "INFO:     127.0.0.1:47290 - \"POST /predict HTTP/1.1\" 200 OK\n",
      "INFO:     127.0.0.1:47290 - \"POST /predict HTTP/1.1\" 200 OK\n",
      "INFO:     127.0.0.1:47290 - \"POST /predict HTTP/1.1\" 200 OK\n",
      "INFO:     127.0.0.1:47290 - \"POST /predict HTTP/1.1\" 200 OK\n",
      "INFO:     127.0.0.1:47290 - \"POST /predict HTTP/1.1\" 200 OK\n",
      "INFO:     127.0.0.1:47290 - \"POST /predict HTTP/1.1\" 200 OK\n",
      "INFO:     127.0.0.1:47290 - \"POST /predict HTTP/1.1\" 200 OK\n",
      "INFO:     127.0.0.1:47290 - \"POST /predict HTTP/1.1\" 200 OK\n",
      "INFO:     127.0.0.1:47290 - \"POST /predict HTTP/1.1\" 200 OK\n",
      "INFO:     127.0.0.1:47290 - \"POST /predict HTTP/1.1\" 200 OK\n",
      "INFO:     127.0.0.1:47290 - \"POST /predict HTTP/1.1\" 200 OK\n",
      "INFO:     127.0.0.1:47290 - \"POST /predict HTTP/1.1\" 200 OK\n",
      "INFO:     127.0.0.1:47290 - \"POST /predict HTTP/1.1\" 200 OK\n",
      "INFO:     127.0.0.1:47290 - \"POST /predict HTTP/1.1\" 200 OK\n",
      "INFO:     127.0.0.1:47290 - \"POST /predict HTTP/1.1\" 200 OK\n",
      "INFO:     127.0.0.1:47290 - \"POST /predict HTTP/1.1\" 200 OK\n",
      "INFO:     127.0.0.1:47290 - \"POST /predict HTTP/1.1\" 200 OK\n",
      "INFO:     127.0.0.1:47290 - \"POST /predict HTTP/1.1\" 200 OK\n",
      "INFO:     127.0.0.1:47290 - \"POST /predict HTTP/1.1\" 200 OK\n",
      "INFO:     127.0.0.1:47290 - \"POST /predict HTTP/1.1\" 200 OK\n",
      "INFO:     127.0.0.1:47290 - \"POST /predict HTTP/1.1\" 200 OK\n",
      "INFO:     127.0.0.1:47290 - \"POST /predict HTTP/1.1\" 200 OK\n",
      "INFO:     127.0.0.1:47290 - \"POST /predict HTTP/1.1\" 200 OK\n",
      "INFO:     127.0.0.1:47290 - \"POST /predict HTTP/1.1\" 200 OK\n",
      "INFO:     127.0.0.1:47290 - \"POST /predict HTTP/1.1\" 200 OK\n",
      "INFO:     127.0.0.1:52800 - \"POST /predict HTTP/1.1\" 200 OK\n",
      "INFO:     127.0.0.1:52800 - \"POST /predict HTTP/1.1\" 200 OK\n",
      "INFO:     127.0.0.1:52800 - \"POST /predict HTTP/1.1\" 200 OK\n",
      "INFO:     127.0.0.1:47136 - \"POST /predict HTTP/1.1\" 200 OK\n",
      "INFO:     127.0.0.1:47136 - \"POST /predict HTTP/1.1\" 200 OK\n",
      "INFO:     127.0.0.1:47136 - \"POST /predict HTTP/1.1\" 200 OK\n",
      "INFO:     127.0.0.1:47136 - \"POST /predict HTTP/1.1\" 200 OK\n",
      "INFO:     127.0.0.1:47136 - \"POST /predict HTTP/1.1\" 200 OK\n",
      "INFO:     127.0.0.1:47136 - \"POST /predict HTTP/1.1\" 200 OK\n",
      "INFO:     127.0.0.1:47136 - \"POST /predict HTTP/1.1\" 200 OK\n",
      "INFO:     127.0.0.1:47136 - \"POST /predict HTTP/1.1\" 200 OK\n",
      "INFO:     127.0.0.1:47136 - \"POST /predict HTTP/1.1\" 200 OK\n",
      "INFO:     127.0.0.1:47136 - \"POST /predict HTTP/1.1\" 200 OK\n",
      "INFO:     127.0.0.1:47136 - \"POST /predict HTTP/1.1\" 200 OK\n",
      "INFO:     127.0.0.1:47136 - \"POST /predict HTTP/1.1\" 200 OK\n",
      "INFO:     127.0.0.1:47136 - \"POST /predict HTTP/1.1\" 200 OK\n",
      "INFO:     127.0.0.1:47136 - \"POST /predict HTTP/1.1\" 200 OK\n",
      "INFO:     127.0.0.1:47136 - \"POST /predict HTTP/1.1\" 200 OK\n",
      "INFO:     127.0.0.1:47136 - \"POST /predict HTTP/1.1\" 200 OK\n",
      "INFO:     127.0.0.1:47136 - \"POST /predict HTTP/1.1\" 200 OK\n",
      "INFO:     127.0.0.1:47136 - \"POST /predict HTTP/1.1\" 200 OK\n",
      "INFO:     127.0.0.1:44942 - \"POST /predict HTTP/1.1\" 200 OK\n",
      "INFO:     127.0.0.1:44942 - \"POST /predict HTTP/1.1\" 200 OK\n",
      "INFO:     127.0.0.1:44942 - \"POST /predict HTTP/1.1\" 200 OK\n",
      "INFO:     127.0.0.1:44942 - \"POST /predict HTTP/1.1\" 200 OK\n",
      "INFO:     127.0.0.1:57756 - \"POST /predict HTTP/1.1\" 200 OK\n",
      "INFO:     127.0.0.1:57756 - \"POST /predict HTTP/1.1\" 200 OK\n",
      "INFO:     127.0.0.1:48378 - \"POST /predict HTTP/1.1\" 200 OK\n",
      "INFO:     127.0.0.1:48378 - \"POST /predict HTTP/1.1\" 200 OK\n",
      "INFO:     127.0.0.1:48378 - \"POST /predict HTTP/1.1\" 200 OK\n",
      "INFO:     127.0.0.1:48378 - \"POST /predict HTTP/1.1\" 200 OK\n",
      "INFO:     127.0.0.1:48378 - \"POST /predict HTTP/1.1\" 200 OK\n",
      "INFO:     127.0.0.1:48378 - \"POST /predict HTTP/1.1\" 200 OK\n",
      "INFO:     127.0.0.1:48378 - \"POST /predict HTTP/1.1\" 200 OK\n",
      "INFO:     127.0.0.1:48378 - \"POST /predict HTTP/1.1\" 200 OK\n",
      "INFO:     127.0.0.1:48378 - \"POST /predict HTTP/1.1\" 200 OK\n"
     ]
    },
    {
     "name": "stderr",
     "output_type": "stream",
     "text": [
      "INFO:     Shutting down\n",
      "INFO:     Waiting for application shutdown.\n",
      "INFO:     Application shutdown complete.\n",
      "INFO:     Finished server process [4886]\n"
     ]
    }
   ],
   "source": [
    "import uvicorn\n",
    "from fastapi import Request, FastAPI\n",
    "from fastapi.middleware.cors import CORSMiddleware\n",
    "import nest_asyncio\n",
    "\n",
    "app = FastAPI()\n",
    "\n",
    "app.add_middleware(\n",
    "    CORSMiddleware,\n",
    "    allow_origins=[\"*\"],\n",
    "    allow_credentials=True,\n",
    "    allow_methods=[\"*\"],\n",
    "    allow_headers=[\"*\"],\n",
    ")\n",
    "\n",
    "@app.post(\"/predict\")\n",
    "async def predict(request: Request):\n",
    "    res = await request.json()\n",
    "    picture = fm.Tensor(np.array(res).reshape((1, 1, 28, 28)))\n",
    "    pred = model.forward(picture)\n",
    "    num = int(np.argmax(pred.data))\n",
    "\n",
    "    return num\n",
    "\n",
    "if __name__ == \"__main__\":\n",
    "    \n",
    "    nest_asyncio.apply()  # Allow asyncio.run to work in a running loop\n",
    "    uvicorn.run(app, host=\"127.0.0.1\", port=3838)"
   ]
  }
 ],
 "metadata": {
  "kernelspec": {
   "display_name": "base",
   "language": "python",
   "name": "python3"
  },
  "language_info": {
   "codemirror_mode": {
    "name": "ipython",
    "version": 3
   },
   "file_extension": ".py",
   "mimetype": "text/x-python",
   "name": "python",
   "nbconvert_exporter": "python",
   "pygments_lexer": "ipython3",
   "version": "3.12.9"
  }
 },
 "nbformat": 4,
 "nbformat_minor": 4
}
