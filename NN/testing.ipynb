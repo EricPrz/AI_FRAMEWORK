{
 "cells": [
  {
   "cell_type": "markdown",
   "metadata": {},
   "source": [
    "### Loading the model:"
   ]
  },
  {
   "cell_type": "code",
   "execution_count": 1,
   "metadata": {},
   "outputs": [
    {
     "name": "stdout",
     "output_type": "stream",
     "text": [
      "Object loaded successfully.\n"
     ]
    }
   ],
   "source": [
    "import pickle\n",
    "import framework as fm\n",
    "import numpy as np\n",
    "\n",
    "class Model(fm.Module):\n",
    "    def __init__(self):\n",
    "        super().__init__()\n",
    "        self.conv1 = fm.Conv2d(1, 6, 5, 1, bias = False)\n",
    "        self.relu1 = fm.ReLu()\n",
    "        self.maxpool1 = fm.MaxPool2d(2, 6, 2)\n",
    "        self.conv2 = fm.Conv2d(6, 16, 5, 1, bias = False)\n",
    "        self.maxpool2 = fm.MaxPool2d(2, 16, 2)\n",
    "        self.lin1 = fm.Linear(256, 84)\n",
    "        self.lin2 = fm.Linear(84, 10)\n",
    "\n",
    "\n",
    "    def forward(self, x):\n",
    "        x = self.conv1.forward(x)\n",
    "        x = self.relu1.forward(x)\n",
    "        x = self.maxpool1.forward(x)\n",
    "        x = self.conv2.forward(x) \n",
    "        x = self.maxpool2.forward(x)\n",
    "        x = x.reshape((-1, 256))\n",
    "        x = self.lin1.forward(x) \n",
    "        x = self.lin2.forward(x)\n",
    "        return x\n",
    "\n",
    "\n",
    "model = Model()\n",
    "\n",
    "# Load the object back from the file\n",
    "with open('prueba.pkl', 'rb') as file:\n",
    "    model = pickle.load(file)\n",
    "\n",
    "print(\"Object loaded successfully.\")"
   ]
  },
  {
   "cell_type": "markdown",
   "metadata": {},
   "source": [
    "### Creation of the API:"
   ]
  },
  {
   "cell_type": "code",
   "execution_count": 3,
   "metadata": {},
   "outputs": [
    {
     "name": "stderr",
     "output_type": "stream",
     "text": [
      "INFO:     Started server process [36923]\n",
      "INFO:     Waiting for application startup.\n",
      "INFO:     Application startup complete.\n",
      "INFO:     Uvicorn running on http://127.0.0.1:3838 (Press CTRL+C to quit)\n"
     ]
    },
    {
     "name": "stdout",
     "output_type": "stream",
     "text": [
      "PICTURE SHAPE: (1, 1, 28, 28)\n",
      "Pred SHAPE: (128, 10)\n",
      "INFO:     127.0.0.1:42530 - \"POST /predict HTTP/1.1\" 200 OK\n"
     ]
    },
    {
     "name": "stderr",
     "output_type": "stream",
     "text": [
      "INFO:     Shutting down\n",
      "INFO:     Waiting for application shutdown.\n",
      "INFO:     Application shutdown complete.\n",
      "INFO:     Finished server process [36923]\n"
     ]
    }
   ],
   "source": [
    "import uvicorn\n",
    "from fastapi import Request, FastAPI\n",
    "from fastapi.middleware.cors import CORSMiddleware\n",
    "\n",
    "app = FastAPI()\n",
    "\n",
    "app.add_middleware(\n",
    "    CORSMiddleware,\n",
    "    allow_origins=[\"*\"],\n",
    "    allow_credentials=True,\n",
    "    allow_methods=[\"*\"],\n",
    "    allow_headers=[\"*\"],\n",
    ")\n",
    "\n",
    "@app.post(\"/predict\")\n",
    "async def predict(request: Request):\n",
    "    res = await request.json()\n",
    "    \n",
    "    picture = fm.Tensor(np.array(res).reshape((1, 1, 28, 28)))\n",
    "    print(\"PICTURE SHAPE:\", picture.shape)\n",
    "    pred = model.forward(picture)\n",
    "    print(\"Pred SHAPE:\", pred.shape)\n",
    "\n",
    "    return int(np.argmax(pred))\n",
    "\n",
    "if __name__ == \"__main__\":\n",
    "    import nest_asyncio\n",
    "    nest_asyncio.apply()  # Allow asyncio.run to work in a running loop\n",
    "    uvicorn.run(app, host=\"127.0.0.1\", port=3838)"
   ]
  }
 ],
 "metadata": {
  "kernelspec": {
   "display_name": "base",
   "language": "python",
   "name": "python3"
  },
  "language_info": {
   "codemirror_mode": {
    "name": "ipython",
    "version": 3
   },
   "file_extension": ".py",
   "mimetype": "text/x-python",
   "name": "python",
   "nbconvert_exporter": "python",
   "pygments_lexer": "ipython3",
   "version": "3.12.9"
  }
 },
 "nbformat": 4,
 "nbformat_minor": 4
}
